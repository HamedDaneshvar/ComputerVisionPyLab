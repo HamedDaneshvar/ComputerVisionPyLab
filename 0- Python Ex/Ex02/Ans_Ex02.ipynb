{
 "cells": [
  {
   "cell_type": "markdown",
   "id": "60aa5e7a-73ee-4cc5-8ea8-856ad7f66b55",
   "metadata": {},
   "source": [
    "## Exercise 1"
   ]
  },
  {
   "cell_type": "code",
   "execution_count": 2,
   "id": "c6353387-4da1-4552-bd4d-36bea3dcf3f2",
   "metadata": {},
   "outputs": [],
   "source": [
    "ages = [19, 22, 19, 24, 20, 25, 26, 24, 25, 24]"
   ]
  },
  {
   "cell_type": "code",
   "execution_count": 5,
   "id": "2c858c8f-3670-4ace-a1d2-5bf57d8ec55d",
   "metadata": {},
   "outputs": [],
   "source": [
    "# task 1.1\n",
    "ages.sort()\n",
    "min_age = min(ages)\n",
    "max_age = max(ages)"
   ]
  },
  {
   "cell_type": "code",
   "execution_count": 8,
   "id": "15ccd92d-83dc-47b2-8cf2-54a81076b62e",
   "metadata": {},
   "outputs": [],
   "source": [
    "# task 1.2\n",
    "ages.append(min_age)\n",
    "ages.append(max_age)"
   ]
  },
  {
   "cell_type": "code",
   "execution_count": 13,
   "id": "33d23fd5-48e0-4f01-bc26-4c15b90932e1",
   "metadata": {},
   "outputs": [
    {
     "name": "stdout",
     "output_type": "stream",
     "text": [
      "24.0\n"
     ]
    }
   ],
   "source": [
    "# task 1.3\n",
    "if len(ages) % 2 == 0:\n",
    "    median = (ages[(len(ages) // 2) - 1] + ages[len(ages) // 2]) / 2\n",
    "else:\n",
    "    median = ages[(len(ages) // 2) - 1]\n",
    "print(median)"
   ]
  },
  {
   "cell_type": "code",
   "execution_count": 14,
   "id": "20ffa4bf-7a38-487d-bd37-813975a5130e",
   "metadata": {},
   "outputs": [
    {
     "name": "stdout",
     "output_type": "stream",
     "text": [
      "22.75\n",
      "22.75\n"
     ]
    }
   ],
   "source": [
    "# task 1.4\n",
    "\n",
    "# method 1\n",
    "total = 0\n",
    "for i in ages:\n",
    "    total += i\n",
    "average = total / len(ages)\n",
    "print(average)\n",
    "\n",
    "# method 2\n",
    "avg = sum(ages) / len(ages)\n",
    "print(avg)"
   ]
  },
  {
   "cell_type": "code",
   "execution_count": 15,
   "id": "c2ab17b6-9414-42c7-8f96-cde390355d4f",
   "metadata": {},
   "outputs": [
    {
     "name": "stdout",
     "output_type": "stream",
     "text": [
      "range: 7\n"
     ]
    }
   ],
   "source": [
    "# task 1.5\n",
    "min_age = min(ages)\n",
    "max_age = max(ages)\n",
    "print(f'range: {max_age - min_age}')"
   ]
  },
  {
   "cell_type": "code",
   "execution_count": 17,
   "id": "ffb4723c-427b-4512-84cf-b666d8196301",
   "metadata": {},
   "outputs": [
    {
     "name": "stdout",
     "output_type": "stream",
     "text": [
      "min age has the greatest distance from the average\n"
     ]
    }
   ],
   "source": [
    "# task 1.6\n",
    "avg = sum(ages) / len(ages)\n",
    "min_age = min(ages)\n",
    "max_age = max(ages)\n",
    "if abs(min_age - avg) > abs(max_age - avg):\n",
    "    print('min age has the greatest distance from the average')\n",
    "elif abs(min_age - avg) < abs(max_age - avg):\n",
    "    print('max age has the greatest distance from the average')\n",
    "else:\n",
    "    print('equal')"
   ]
  },
  {
   "cell_type": "markdown",
   "id": "bdc80845-b0a0-4192-8b9e-a204c2dad7b8",
   "metadata": {},
   "source": [
    "## Exercise 2"
   ]
  },
  {
   "cell_type": "code",
   "execution_count": 18,
   "id": "fc68aecb-0ffa-4f66-abbc-43bc89776980",
   "metadata": {},
   "outputs": [],
   "source": [
    "# task 2.1\n",
    "mt_tuple = tuple()"
   ]
  },
  {
   "cell_type": "code",
   "execution_count": 35,
   "id": "ea4dd0a3-bd58-47ad-a1cf-08f6bdd9980c",
   "metadata": {},
   "outputs": [],
   "source": [
    "# task 2.2\n",
    "sis_bros = ('mamad', 'sara', 'hani', 'mohsen')"
   ]
  },
  {
   "cell_type": "code",
   "execution_count": 36,
   "id": "1c76a615-bab2-47ad-aef2-c8bd3351e006",
   "metadata": {},
   "outputs": [],
   "source": [
    "# task 2.3\n",
    "# convert sis_bros to the list cause tuple is immutable and add myself and after the changes, sis_bros cast from list to tuple\n",
    "me = 'hamed'\n",
    "sis_bros = list(sis_bros)\n",
    "sis_bros.append(me)\n",
    "sis_bros = tuple(sis_bros)"
   ]
  },
  {
   "cell_type": "code",
   "execution_count": 38,
   "id": "174a8a30-7bf4-467f-acf3-9c2e175650fa",
   "metadata": {},
   "outputs": [
    {
     "data": {
      "text/plain": [
       "4"
      ]
     },
     "execution_count": 38,
     "metadata": {},
     "output_type": "execute_result"
    }
   ],
   "source": [
    "# task 2.4\n",
    "len(sis_bros) - 1 # mines 1 cause myself isn't counted"
   ]
  },
  {
   "cell_type": "code",
   "execution_count": 39,
   "id": "5866f735-4816-49df-be6a-0d4a26932ab1",
   "metadata": {},
   "outputs": [],
   "source": [
    "# task 2.5\n",
    "dad = 'hossain'\n",
    "mom = 'niloofar'\n",
    "family_member = list(sis_bros)\n",
    "family_member.append(dad)\n",
    "family_member.append(mom)\n",
    "family_member = tuple(family_member)"
   ]
  },
  {
   "cell_type": "markdown",
   "id": "6edd4001-bb00-416f-8969-fc6258090a6b",
   "metadata": {},
   "source": [
    "## Exercise 3"
   ]
  },
  {
   "cell_type": "code",
   "execution_count": 44,
   "id": "33c74d30-b73a-49b1-9a9a-dc82a239fb2a",
   "metadata": {},
   "outputs": [],
   "source": [
    "# task 3.1\n",
    "student = {\n",
    "    'first_name':'Mamad',\n",
    "    'last_name':'Mamadi',\n",
    "    'gender': 'male',\n",
    "    'age': 32,\n",
    "    'skills':['Python', 'git', 'django', 'redis', 'rest api'],\n",
    "    'country':'Iran',\n",
    "    'city':'Shiraz',\n",
    "    'address': 'Eram Blvd, 4 alley'\n",
    "}"
   ]
  },
  {
   "cell_type": "code",
   "execution_count": 45,
   "id": "f02cb85b-69ec-419b-be83-69df4b358e75",
   "metadata": {},
   "outputs": [
    {
     "data": {
      "text/plain": [
       "8"
      ]
     },
     "execution_count": 45,
     "metadata": {},
     "output_type": "execute_result"
    }
   ],
   "source": [
    "# task 3.2\n",
    "len(student)"
   ]
  },
  {
   "cell_type": "code",
   "execution_count": 49,
   "id": "caba497e-a116-4c44-bd79-f7efe9cd20aa",
   "metadata": {},
   "outputs": [
    {
     "name": "stdout",
     "output_type": "stream",
     "text": [
      "type is Ok\n",
      "skills: ['Python', 'git', 'django', 'redis', 'rest api']\n"
     ]
    }
   ],
   "source": [
    "# task 3.3\n",
    "skills = student['skills']\n",
    "if type(skills) == list:\n",
    "    print('type is Ok')\n",
    "    print(f'skills: {skills}')"
   ]
  },
  {
   "cell_type": "code",
   "execution_count": 50,
   "id": "3e770742-6e97-485c-bfe3-027ed460d04f",
   "metadata": {},
   "outputs": [],
   "source": [
    "# task 3.4\n",
    "student['skills'].extend(['celery', 'rabbit mq'])"
   ]
  },
  {
   "cell_type": "code",
   "execution_count": 53,
   "id": "9601df69-d63f-4db1-9cef-3963878e69cb",
   "metadata": {},
   "outputs": [
    {
     "data": {
      "text/plain": [
       "['first_name',\n",
       " 'last_name',\n",
       " 'gender',\n",
       " 'age',\n",
       " 'skills',\n",
       " 'country',\n",
       " 'city',\n",
       " 'address']"
      ]
     },
     "execution_count": 53,
     "metadata": {},
     "output_type": "execute_result"
    }
   ],
   "source": [
    "# task 3.5\n",
    "list(student.keys())"
   ]
  },
  {
   "cell_type": "code",
   "execution_count": 54,
   "id": "efe63b23-90fa-4f3d-b7c7-76c5592bfca8",
   "metadata": {},
   "outputs": [
    {
     "data": {
      "text/plain": [
       "['Mamad',\n",
       " 'Mamadi',\n",
       " 'male',\n",
       " 32,\n",
       " ['Python', 'git', 'django', 'redis', 'rest api', 'celery', 'rabbit mq'],\n",
       " 'Iran',\n",
       " 'Shiraz',\n",
       " 'Eram Blvd, 4 alley']"
      ]
     },
     "execution_count": 54,
     "metadata": {},
     "output_type": "execute_result"
    }
   ],
   "source": [
    "# task 3.6\n",
    "list(student.values())"
   ]
  },
  {
   "cell_type": "code",
   "execution_count": 56,
   "id": "47eadfa4-24d6-41a0-8cce-65e687d85e51",
   "metadata": {},
   "outputs": [
    {
     "data": {
      "text/plain": [
       "[('first_name', 'Mamad'),\n",
       " ('last_name', 'Mamadi'),\n",
       " ('gender', 'male'),\n",
       " ('age', 32),\n",
       " ('skills',\n",
       "  ['Python', 'git', 'django', 'redis', 'rest api', 'celery', 'rabbit mq']),\n",
       " ('country', 'Iran'),\n",
       " ('city', 'Shiraz'),\n",
       " ('address', 'Eram Blvd, 4 alley')]"
      ]
     },
     "execution_count": 56,
     "metadata": {},
     "output_type": "execute_result"
    }
   ],
   "source": [
    "# task 3.7\n",
    "list(student.items())"
   ]
  },
  {
   "cell_type": "code",
   "execution_count": 57,
   "id": "59c5e2e7-f49c-4e05-a906-5986223a6424",
   "metadata": {},
   "outputs": [],
   "source": [
    "# task 3.8\n",
    "# remove address for student dict\n",
    "del student['address']"
   ]
  },
  {
   "cell_type": "code",
   "execution_count": 59,
   "id": "fcde9e78-98e1-4d64-8191-84d92bd22be9",
   "metadata": {},
   "outputs": [],
   "source": [
    "# task 3.9\n",
    "# remove student dict\n",
    "del student"
   ]
  },
  {
   "cell_type": "markdown",
   "id": "e2cc464c-7af6-4873-a5da-7a65bef6e926",
   "metadata": {},
   "source": [
    "## Exercise 4"
   ]
  },
  {
   "cell_type": "code",
   "execution_count": 88,
   "id": "395673f0-3f10-4402-8a85-91f62cb4145b",
   "metadata": {},
   "outputs": [],
   "source": [
    "it_companies = {'Facebook', 'Google', 'Microsoft', 'Apple', 'IBM', 'Oracle', 'Amazon'}"
   ]
  },
  {
   "cell_type": "code",
   "execution_count": 89,
   "id": "b21bf41c-0e8a-489f-9e24-deab288ed8d2",
   "metadata": {},
   "outputs": [
    {
     "data": {
      "text/plain": [
       "7"
      ]
     },
     "execution_count": 89,
     "metadata": {},
     "output_type": "execute_result"
    }
   ],
   "source": [
    "# task 4.1\n",
    "len(it_companies)"
   ]
  },
  {
   "cell_type": "code",
   "execution_count": 90,
   "id": "a2cc09d1-fd51-49da-ae35-7e89e097d211",
   "metadata": {},
   "outputs": [],
   "source": [
    "# task 4.2\n",
    "it_companies.add('Twitter')"
   ]
  },
  {
   "cell_type": "code",
   "execution_count": 91,
   "id": "9fb3ac31-516a-4cb2-bd82-63c7649fe6e5",
   "metadata": {},
   "outputs": [],
   "source": [
    "# task 4.3\n",
    "it_companies = it_companies.union({'Spotify', 'Tesla', 'Instagram'})"
   ]
  },
  {
   "cell_type": "code",
   "execution_count": 92,
   "id": "4b24220f-8f7a-48e0-a06a-fdb10f38b98a",
   "metadata": {},
   "outputs": [],
   "source": [
    "# task 4.4\n",
    "it_companies.remove('Instagram')"
   ]
  },
  {
   "cell_type": "code",
   "execution_count": 94,
   "id": "94b9bae6-1d06-40e4-b5e1-defdccc7259f",
   "metadata": {},
   "outputs": [
    {
     "ename": "KeyError",
     "evalue": "'Instagram'",
     "output_type": "error",
     "traceback": [
      "\u001b[1;31m---------------------------------------------------------------------------\u001b[0m",
      "\u001b[1;31mKeyError\u001b[0m                                  Traceback (most recent call last)",
      "Cell \u001b[1;32mIn[94], line 5\u001b[0m\n\u001b[0;32m      3\u001b[0m it_companies\u001b[38;5;241m.\u001b[39mdiscard(\u001b[38;5;124m'\u001b[39m\u001b[38;5;124mInstagram\u001b[39m\u001b[38;5;124m'\u001b[39m)\n\u001b[0;32m      4\u001b[0m \u001b[38;5;66;03m# remove -> if element already exist, remove from set and if element does not exist, An error raise like below beacause 'Instagram' does not exist\u001b[39;00m\n\u001b[1;32m----> 5\u001b[0m \u001b[43mit_companies\u001b[49m\u001b[38;5;241;43m.\u001b[39;49m\u001b[43mremove\u001b[49m\u001b[43m(\u001b[49m\u001b[38;5;124;43m'\u001b[39;49m\u001b[38;5;124;43mInstagram\u001b[39;49m\u001b[38;5;124;43m'\u001b[39;49m\u001b[43m)\u001b[49m\n",
      "\u001b[1;31mKeyError\u001b[0m: 'Instagram'"
     ]
    }
   ],
   "source": [
    "# task 4.5\n",
    "# discard -> if element already exist, remove from set and if even element does not exist, It does not give an error\n",
    "it_companies.discard('Instagram')\n",
    "# remove -> if element already exist, remove from set and if element does not exist, An error raise like below beacause 'Instagram' does not exist\n",
    "it_companies.remove('Instagram')"
   ]
  },
  {
   "cell_type": "markdown",
   "id": "453db079-866e-4137-86b7-1b9cff2b303f",
   "metadata": {},
   "source": [
    "## Exercise 5"
   ]
  },
  {
   "cell_type": "code",
   "execution_count": 103,
   "id": "a43afb85-3921-440b-b468-f27cead4ce3b",
   "metadata": {},
   "outputs": [
    {
     "data": {
      "text/plain": [
       "10"
      ]
     },
     "execution_count": 103,
     "metadata": {},
     "output_type": "execute_result"
    }
   ],
   "source": [
    "sentence = 'I am a teacher and I love to inspire and teach people.'\n",
    "words = set(sentence.replace('.', '').split())\n",
    "len(words)"
   ]
  },
  {
   "cell_type": "markdown",
   "id": "97c3a2e1-15cc-4c61-848c-cfc2b2e7b329",
   "metadata": {},
   "source": [
    "## Exercise 6"
   ]
  },
  {
   "cell_type": "code",
   "execution_count": 107,
   "id": "645adc44-9d31-4fee-a5fa-4f739172813e",
   "metadata": {},
   "outputs": [
    {
     "data": {
      "text/plain": [
       "{'f': 1, 'i': 1, 'l': 1, 'o': 1, 'g': 1, 'e': 1, 'r': 1}"
      ]
     },
     "execution_count": 107,
     "metadata": {},
     "output_type": "execute_result"
    }
   ],
   "source": [
    "def char_frequency(s):\n",
    "    result = {}\n",
    "    for c in s:\n",
    "        if c == ' ':\n",
    "            continue\n",
    "        result[c.lower()] = result.get(c.lower(), 0) + 1\n",
    "    return result\n",
    "\n",
    "char_frequency('Filoger')"
   ]
  },
  {
   "cell_type": "markdown",
   "id": "4dce921f-e65b-443e-a7ca-aa8811976a0b",
   "metadata": {},
   "source": [
    "## Exercise 7"
   ]
  },
  {
   "cell_type": "code",
   "execution_count": 108,
   "id": "f9c23cbe-a665-406e-9a1a-20299dbc8a11",
   "metadata": {},
   "outputs": [
    {
     "name": "stdout",
     "output_type": "stream",
     "text": [
      "[1, 3, 5, 7, 9]\n"
     ]
    }
   ],
   "source": [
    "def print_odd_numbers(lst):\n",
    "    new_lst = []\n",
    "    for num in lst:\n",
    "        if num % 2 == 1:\n",
    "            new_lst.append(num)\n",
    "    print(new_lst)\n",
    "\n",
    "print_odd_numbers([1, 2, 3, 4, 5, 6, 7, 8, 9])"
   ]
  },
  {
   "cell_type": "markdown",
   "id": "b11128f3-d16f-4fc1-b61c-98cb284de672",
   "metadata": {},
   "source": [
    "## Exercise 8"
   ]
  },
  {
   "cell_type": "code",
   "execution_count": 114,
   "id": "3987f630-6839-4d80-8bd6-52153b705846",
   "metadata": {},
   "outputs": [],
   "source": [
    "employees = [{\"name\": \"Sanaz\", \"age\": 14}, {\"name\": \"AmirHossein\", \"age\": 18}, {\"name\": \"Azam\" , \"age\": 14}, {\"name\": \"Zahra\" , \"age\": 16}, {\"name\": \"Shayan\" , \"age\": 18}, {\"name\": \"Zahra\" , \"age\": 17}]"
   ]
  },
  {
   "cell_type": "code",
   "execution_count": 115,
   "id": "423dbd78-36f1-49eb-b235-88d4c62a83c0",
   "metadata": {},
   "outputs": [
    {
     "data": {
      "text/plain": [
       "[{'name': 'Azam', 'age': 14},\n",
       " {'name': 'Sanaz', 'age': 14},\n",
       " {'name': 'Zahra', 'age': 16},\n",
       " {'name': 'Zahra', 'age': 17},\n",
       " {'name': 'AmirHossein', 'age': 18},\n",
       " {'name': 'Shayan', 'age': 18}]"
      ]
     },
     "execution_count": 115,
     "metadata": {},
     "output_type": "execute_result"
    }
   ],
   "source": [
    "employees.sort(key=lambda a:(a['age'], a['name']))\n",
    "employees"
   ]
  },
  {
   "cell_type": "markdown",
   "id": "84a9fe77-d1de-486e-8d8a-6eca22468277",
   "metadata": {},
   "source": [
    "## Exercise 9"
   ]
  },
  {
   "cell_type": "code",
   "execution_count": 28,
   "id": "8a03100b-1797-40cc-87ea-aca5a850e77a",
   "metadata": {},
   "outputs": [
    {
     "name": "stdout",
     "output_type": "stream",
     "text": [
      "0 1 1 2 3 5 8 "
     ]
    }
   ],
   "source": [
    "def fibonachi(n):\n",
    "    def n_fibo(n):\n",
    "        if n == 1:\n",
    "            return 0\n",
    "        elif n == 2:\n",
    "            return 1\n",
    "        else:\n",
    "            return n_fibo(n - 1) + n_fibo(n - 2)\n",
    "    \n",
    "    for i in range(1, n + 1):\n",
    "        print(n_fibo(i), end=' ')\n",
    "\n",
    "# for test\n",
    "fibonachi(7)"
   ]
  },
  {
   "cell_type": "markdown",
   "id": "d2f84eef-b565-4a8e-8d46-674733e1ff89",
   "metadata": {},
   "source": [
    "## Exercise 10"
   ]
  },
  {
   "cell_type": "code",
   "execution_count": 9,
   "id": "94a669e3-25de-4a52-8c70-e9130aa67f1b",
   "metadata": {},
   "outputs": [
    {
     "name": "stdout",
     "output_type": "stream",
     "text": [
      "Key 'CV' does not exist in dictionary!\n"
     ]
    }
   ],
   "source": [
    "# we should not use this variable name\n",
    "dict = {'Python': 2, 'DIP': 7, 'DL': 8}\n",
    "try:\n",
    "    print(dict['CV'])\n",
    "except KeyError as e:\n",
    "    print(f'Key {e} does not exist in dictionary!')\n",
    "except Exception as error:\n",
    "    print(error)"
   ]
  },
  {
   "cell_type": "markdown",
   "id": "aed6b571-a282-4cbd-892f-7b2b5cc98843",
   "metadata": {},
   "source": [
    "## Exercise 11"
   ]
  },
  {
   "cell_type": "code",
   "execution_count": 14,
   "id": "efb8d959-f226-40da-a3dc-ced2f92bc246",
   "metadata": {},
   "outputs": [
    {
     "name": "stdout",
     "output_type": "stream",
     "text": [
      "invalid literal for int() with base 10: '45145GT'\n"
     ]
    }
   ],
   "source": [
    "code = '45145GT'\n",
    "try:\n",
    "    int(code)\n",
    "except ValueError as e:\n",
    "    # show the error message\n",
    "    print(e)\n",
    "except Exception as error:\n",
    "    print(error)"
   ]
  },
  {
   "cell_type": "markdown",
   "id": "4a53d16e-9411-4b80-8bbc-b701340f9495",
   "metadata": {},
   "source": [
    "## Exercise 12"
   ]
  },
  {
   "cell_type": "code",
   "execution_count": 17,
   "id": "4c9d01c3-7dc8-4da8-a1f8-75c4b7b8cc57",
   "metadata": {},
   "outputs": [],
   "source": [
    "import os\n",
    "\n",
    "# check if file exist use a mode for file and write new data after latest line\n",
    "if os.path.exists('Ex_01_Files.txt'):\n",
    "    f = open('Ex_01_Files.txt', 'a') # because we don't lost existance data\n",
    "    f.write('\\n') # write a new line to make sure we are at the top of the line\n",
    "else:\n",
    "    f = open('Ex_01_Files.txt', 'w') # use w mode because if file does not exist, python create it\n",
    "\n",
    "lst_data = [1, 7, 'test' , 'apple' , 'banana' , 'cherry' , 785, 19, 'Python' , 78.0, True, 7854.15]\n",
    "for data in lst_data:\n",
    "    f.write(str(data) + '\\n') # write data and send cursor to new line for new data\n",
    "\n",
    "# close the file\n",
    "f.close()"
   ]
  },
  {
   "cell_type": "markdown",
   "id": "403b1d20-35a7-48e3-b416-2184d7cdd454",
   "metadata": {},
   "source": [
    "## Exercise 13"
   ]
  },
  {
   "cell_type": "code",
   "execution_count": 29,
   "id": "48bffe28-70ac-4c03-afce-d8e36c684e22",
   "metadata": {},
   "outputs": [
    {
     "name": "stdout",
     "output_type": "stream",
     "text": [
      "numbers list: [1, 7, 785, 19, 78.0, 7854.15]\n",
      "strings list: ['test', 'apple', 'banana', 'cherry', 'Python', 'True']\n"
     ]
    }
   ],
   "source": [
    "import os\n",
    "\n",
    "# check if file exist use a mode for file and write new data after latest line\n",
    "if os.path.exists('Ex_01_Files.txt'):\n",
    "    try:\n",
    "        f = open('Ex_01_Files.txt', 'r')\n",
    "    except FileNotFoundError as e: # this line for check is useless because when you check file is exist or not, you handle this error:D\n",
    "        print(e)\n",
    "\n",
    "numbers_lst = []\n",
    "strings_lst = []\n",
    "for line in f: # use f instead f.readlines to read file with generator attribute and use less memory\n",
    "    line = line.strip()\n",
    "    if line.isdigit():\n",
    "        numbers_lst.append(int(line))\n",
    "    else:\n",
    "        try:\n",
    "            line = float(line)\n",
    "            numbers_lst.append(line)\n",
    "        except ValueError:\n",
    "            strings_lst.append(line)\n",
    "\n",
    "\n",
    "print(f'numbers list: {numbers_lst}')\n",
    "print(f'strings list: {strings_lst}')"
   ]
  },
  {
   "cell_type": "code",
   "execution_count": null,
   "id": "80d1a688-aceb-4ed7-8eeb-c1118a2ada48",
   "metadata": {},
   "outputs": [],
   "source": []
  }
 ],
 "metadata": {
  "kernelspec": {
   "display_name": "Python 3",
   "language": "python",
   "name": "python3"
  },
  "language_info": {
   "codemirror_mode": {
    "name": "ipython",
    "version": 3
   },
   "file_extension": ".py",
   "mimetype": "text/x-python",
   "name": "python",
   "nbconvert_exporter": "python",
   "pygments_lexer": "ipython3",
   "version": "3.9.1"
  }
 },
 "nbformat": 4,
 "nbformat_minor": 5
}
