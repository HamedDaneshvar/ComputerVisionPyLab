{
 "cells": [
  {
   "cell_type": "markdown",
   "id": "60aa5e7a-73ee-4cc5-8ea8-856ad7f66b55",
   "metadata": {},
   "source": [
    "## Exercise 1"
   ]
  },
  {
   "cell_type": "code",
   "execution_count": 4,
   "id": "c6353387-4da1-4552-bd4d-36bea3dcf3f2",
   "metadata": {},
   "outputs": [],
   "source": [
    "class Animal():\n",
    "    def __init__(self, Category, Breed, Size, Age, Color):\n",
    "        self.Category = Category\n",
    "        self.Breed = Breed\n",
    "        self.Size = Size\n",
    "        self.Age = Age\n",
    "        self.Color = Color\n",
    "\n",
    "    def __str__(self):\n",
    "        # if you use print(object) see this message\n",
    "        return f'Breed of the Animal is {self.Breed}, It is {self.Size} and {self.Color} , the Animal is {self.Age} years old.'\n",
    "\n",
    "    def __repr__(self):\n",
    "        # if you just use object in your interpreter, see the initilize of class definition\n",
    "        return f'Animal({self.Category}, {self.Breed}, {self.Size}, {self.Age}, {self.Color})'\n",
    "\n",
    "    def Eat(self):\n",
    "        return f'{self.Category} eats'\n",
    "\n",
    "    def Sleep(self):\n",
    "        return f'{self.Category} sleeps'\n",
    "\n",
    "    def Sit(self):\n",
    "        return f'{self.Category} sits'\n",
    "\n",
    "    def Run(self):\n",
    "        return f'{self.Category} runs'"
   ]
  },
  {
   "cell_type": "code",
   "execution_count": 18,
   "id": "2c858c8f-3670-4ace-a1d2-5bf57d8ec55d",
   "metadata": {},
   "outputs": [],
   "source": [
    "class Pet(Animal):\n",
    "    def __init__(self, Name, Owner, Health_Card_Number, Category, Breed, Size, Age, Color):\n",
    "        super().__init__(Category, Breed, Size, Age, Color)\n",
    "        self.Name = Name\n",
    "        self.Owner = Owner\n",
    "        self.Health_Card_Number = Health_Card_Number\n",
    "\n",
    "    def __str__(self):\n",
    "        # if you use print(object) see this message\n",
    "        return f'Breed of the Animal is {self.Breed}, It is {self.Size} and {self.Color} , {self.Name} is {self.Age} years old.'\n",
    "\n",
    "    def __repr__(self):\n",
    "        # if you just use object in your interpreter, see the initilize of class definition\n",
    "        return f'Pet(\"{self.Name}\", \"{self.Owner}\", \"{self.Health_Card_Number}\", \"{self.Category}\", \"{self.Breed}\", \"{self.Size}\", \"{self.Age}\", \"{self.Color}\")'\n",
    "\n",
    "    def Hug(self):\n",
    "        return f'{self.Name} Hugs'\n",
    "\n",
    "    def Bring(self):\n",
    "        return f'{self.Name} Brings'"
   ]
  },
  {
   "cell_type": "code",
   "execution_count": 19,
   "id": "15ccd92d-83dc-47b2-8cf2-54a81076b62e",
   "metadata": {},
   "outputs": [],
   "source": [
    "class Wild(Animal):\n",
    "    def __init__(self, Jungle_Name, Category, Breed, Size, Age, Color):\n",
    "        super().__init__(Category, Breed, Size, Age, Color)\n",
    "        self.Jungle_Name = Jungle_Name\n",
    "\n",
    "    def __str__(self):\n",
    "        # if you use print(object) see this message\n",
    "        return f'Breed of the Animal is {self.Breed}, It is {self.Size} and {self.Color} , {self.Jungle_Name} is {self.Age} years old.'\n",
    "\n",
    "    def __repr__(self):\n",
    "        # if you just use object in your interpreter, see the initilize of class definition\n",
    "        return f'Wild(\"{self.Jungle_Name}\", \"{self.Category}\", \"{self.Breed}\", \"{self.Size}\", \"{self.Age}\", \"{self.Color}\")'\n",
    "\n",
    "    def Kill(self):\n",
    "        return f'{self.Jungle_Name} Kills'\n",
    "\n",
    "    def Hunt(self):\n",
    "        return f'{self.Jungle_Name} Hunts'"
   ]
  },
  {
   "cell_type": "code",
   "execution_count": 20,
   "id": "33d23fd5-48e0-4f01-bc26-4c15b90932e1",
   "metadata": {},
   "outputs": [],
   "source": [
    "pet = Pet('hapo', 'Michel', '1234567', 'domestic', 'dog', 'middle', '2', 'brown')"
   ]
  },
  {
   "cell_type": "code",
   "execution_count": 26,
   "id": "c2ab17b6-9414-42c7-8f96-cde390355d4f",
   "metadata": {},
   "outputs": [
    {
     "data": {
      "text/plain": [
       "'hapo Hugs'"
      ]
     },
     "execution_count": 26,
     "metadata": {},
     "output_type": "execute_result"
    }
   ],
   "source": [
    "pet.Hug()"
   ]
  },
  {
   "cell_type": "code",
   "execution_count": 27,
   "id": "ffb4723c-427b-4512-84cf-b666d8196301",
   "metadata": {},
   "outputs": [
    {
     "data": {
      "text/plain": [
       "'hapo Brings'"
      ]
     },
     "execution_count": 27,
     "metadata": {},
     "output_type": "execute_result"
    }
   ],
   "source": [
    "pet.Bring()"
   ]
  },
  {
   "cell_type": "code",
   "execution_count": 28,
   "id": "cf32c115-8e3e-444e-b36b-290916fd6c94",
   "metadata": {},
   "outputs": [
    {
     "data": {
      "text/plain": [
       "'domestic sits'"
      ]
     },
     "execution_count": 28,
     "metadata": {},
     "output_type": "execute_result"
    }
   ],
   "source": [
    "pet.Sit()"
   ]
  },
  {
   "cell_type": "code",
   "execution_count": 29,
   "id": "20ffa4bf-7a38-487d-bd37-813975a5130e",
   "metadata": {},
   "outputs": [],
   "source": [
    "wild = Wild('tiger', 'wild', 'cat', 'big', '4', 'orange')"
   ]
  },
  {
   "cell_type": "code",
   "execution_count": 31,
   "id": "b52833e7-7c6a-40f5-ac7f-4752254c1df7",
   "metadata": {},
   "outputs": [
    {
     "data": {
      "text/plain": [
       "'tiger Kills'"
      ]
     },
     "execution_count": 31,
     "metadata": {},
     "output_type": "execute_result"
    }
   ],
   "source": [
    "wild.Kill()"
   ]
  },
  {
   "cell_type": "code",
   "execution_count": 32,
   "id": "bb9fa5a5-0f9d-4943-b3e5-fdc66eab0200",
   "metadata": {},
   "outputs": [
    {
     "data": {
      "text/plain": [
       "'tiger Hunts'"
      ]
     },
     "execution_count": 32,
     "metadata": {},
     "output_type": "execute_result"
    }
   ],
   "source": [
    "wild.Hunt()"
   ]
  },
  {
   "cell_type": "code",
   "execution_count": 33,
   "id": "5130d226-7931-48bf-aeaa-92728301d361",
   "metadata": {},
   "outputs": [
    {
     "data": {
      "text/plain": [
       "'wild sits'"
      ]
     },
     "execution_count": 33,
     "metadata": {},
     "output_type": "execute_result"
    }
   ],
   "source": [
    "wild.Sit()"
   ]
  },
  {
   "cell_type": "code",
   "execution_count": null,
   "id": "561c4799-0fe3-4c59-9c64-74af1db87070",
   "metadata": {},
   "outputs": [],
   "source": []
  }
 ],
 "metadata": {
  "kernelspec": {
   "display_name": "Python 3",
   "language": "python",
   "name": "python3"
  },
  "language_info": {
   "codemirror_mode": {
    "name": "ipython",
    "version": 3
   },
   "file_extension": ".py",
   "mimetype": "text/x-python",
   "name": "python",
   "nbconvert_exporter": "python",
   "pygments_lexer": "ipython3",
   "version": "3.9.1"
  }
 },
 "nbformat": 4,
 "nbformat_minor": 5
}
