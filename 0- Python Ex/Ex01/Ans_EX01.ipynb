{
 "cells": [
  {
   "cell_type": "markdown",
   "id": "60aa5e7a-73ee-4cc5-8ea8-856ad7f66b55",
   "metadata": {},
   "source": [
    "## Exercise 1"
   ]
  },
  {
   "cell_type": "code",
   "execution_count": 1,
   "id": "c6353387-4da1-4552-bd4d-36bea3dcf3f2",
   "metadata": {},
   "outputs": [
    {
     "data": {
      "text/plain": [
       "str"
      ]
     },
     "execution_count": 1,
     "metadata": {},
     "output_type": "execute_result"
    }
   ],
   "source": [
    "type('Filoger') # str or string pronunciation"
   ]
  },
  {
   "cell_type": "code",
   "execution_count": 2,
   "id": "4633f48a-978b-4613-a23a-e513143281b5",
   "metadata": {},
   "outputs": [
    {
     "data": {
      "text/plain": [
       "str"
      ]
     },
     "execution_count": 2,
     "metadata": {},
     "output_type": "execute_result"
    }
   ],
   "source": [
    "type('19.0') # str or string pronunciation"
   ]
  },
  {
   "cell_type": "code",
   "execution_count": 3,
   "id": "6eea485b-c824-4efa-bf18-cb973f6c6692",
   "metadata": {},
   "outputs": [
    {
     "data": {
      "text/plain": [
       "int"
      ]
     },
     "execution_count": 3,
     "metadata": {},
     "output_type": "execute_result"
    }
   ],
   "source": [
    "type(18) # int or integer pronunciation"
   ]
  },
  {
   "cell_type": "code",
   "execution_count": 4,
   "id": "de51673e-cd8a-4c91-a99c-13d738b64320",
   "metadata": {},
   "outputs": [
    {
     "data": {
      "text/plain": [
       "float"
      ]
     },
     "execution_count": 4,
     "metadata": {},
     "output_type": "execute_result"
    }
   ],
   "source": [
    "type(13.0) # float"
   ]
  },
  {
   "cell_type": "code",
   "execution_count": 5,
   "id": "53b5696a-9a84-4776-918a-88835c825f0f",
   "metadata": {},
   "outputs": [
    {
     "data": {
      "text/plain": [
       "bool"
      ]
     },
     "execution_count": 5,
     "metadata": {},
     "output_type": "execute_result"
    }
   ],
   "source": [
    "type(True) # bool or boolean pronunciation"
   ]
  },
  {
   "cell_type": "markdown",
   "id": "bdc80845-b0a0-4192-8b9e-a204c2dad7b8",
   "metadata": {},
   "source": [
    "## Exercise 2"
   ]
  },
  {
   "cell_type": "code",
   "execution_count": 6,
   "id": "fc68aecb-0ffa-4f66-abbc-43bc89776980",
   "metadata": {},
   "outputs": [
    {
     "ename": "ValueError",
     "evalue": "invalid literal for int() with base 10: 'Filoger'",
     "output_type": "error",
     "traceback": [
      "\u001b[1;31m---------------------------------------------------------------------------\u001b[0m",
      "\u001b[1;31mValueError\u001b[0m                                Traceback (most recent call last)",
      "Cell \u001b[1;32mIn[6], line 1\u001b[0m\n\u001b[1;32m----> 1\u001b[0m \u001b[38;5;28;43mint\u001b[39;49m\u001b[43m(\u001b[49m\u001b[38;5;124;43m'\u001b[39;49m\u001b[38;5;124;43mFiloger\u001b[39;49m\u001b[38;5;124;43m'\u001b[39;49m\u001b[43m)\u001b[49m \u001b[38;5;66;03m# error because str can not convert to int\u001b[39;00m\n",
      "\u001b[1;31mValueError\u001b[0m: invalid literal for int() with base 10: 'Filoger'"
     ]
    }
   ],
   "source": [
    "int('Filoger') # error because str can not convert to int"
   ]
  },
  {
   "cell_type": "code",
   "execution_count": 7,
   "id": "3e3c1a22-7358-4bc2-bf5d-b2d211fe7adc",
   "metadata": {},
   "outputs": [
    {
     "ename": "ValueError",
     "evalue": "invalid literal for int() with base 10: '19.0'",
     "output_type": "error",
     "traceback": [
      "\u001b[1;31m---------------------------------------------------------------------------\u001b[0m",
      "\u001b[1;31mValueError\u001b[0m                                Traceback (most recent call last)",
      "Cell \u001b[1;32mIn[7], line 1\u001b[0m\n\u001b[1;32m----> 1\u001b[0m \u001b[38;5;28;43mint\u001b[39;49m\u001b[43m(\u001b[49m\u001b[38;5;124;43m'\u001b[39;49m\u001b[38;5;124;43m19.0\u001b[39;49m\u001b[38;5;124;43m'\u001b[39;49m\u001b[43m)\u001b[49m \u001b[38;5;66;03m# error because first must cast to float and then cast to int like int(float('19.0'))\u001b[39;00m\n",
      "\u001b[1;31mValueError\u001b[0m: invalid literal for int() with base 10: '19.0'"
     ]
    }
   ],
   "source": [
    "int('19.0') # error because first must cast to float and then cast to int like int(float('19.0'))"
   ]
  },
  {
   "cell_type": "code",
   "execution_count": 8,
   "id": "36222f09-7673-4659-a539-bc3947b1a453",
   "metadata": {},
   "outputs": [
    {
     "data": {
      "text/plain": [
       "18"
      ]
     },
     "execution_count": 8,
     "metadata": {},
     "output_type": "execute_result"
    }
   ],
   "source": [
    "int(18)"
   ]
  },
  {
   "cell_type": "code",
   "execution_count": 9,
   "id": "972b341d-fc78-4a8f-8064-10c610940720",
   "metadata": {},
   "outputs": [
    {
     "data": {
      "text/plain": [
       "13"
      ]
     },
     "execution_count": 9,
     "metadata": {},
     "output_type": "execute_result"
    }
   ],
   "source": [
    "int(13.0)"
   ]
  },
  {
   "cell_type": "code",
   "execution_count": 10,
   "id": "3805fb46-dfd0-4989-b60b-cb7c80742fe3",
   "metadata": {},
   "outputs": [
    {
     "data": {
      "text/plain": [
       "1"
      ]
     },
     "execution_count": 10,
     "metadata": {},
     "output_type": "execute_result"
    }
   ],
   "source": [
    "int(True)"
   ]
  },
  {
   "cell_type": "markdown",
   "id": "6edd4001-bb00-416f-8969-fc6258090a6b",
   "metadata": {},
   "source": [
    "## Exercise 3"
   ]
  },
  {
   "cell_type": "code",
   "execution_count": 11,
   "id": "33c74d30-b73a-49b1-9a9a-dc82a239fb2a",
   "metadata": {},
   "outputs": [
    {
     "name": "stdout",
     "output_type": "stream",
     "text": [
      "68.9 ns ± 11.7 ns per loop (mean ± std. dev. of 7 runs, 10,000,000 loops each)\n"
     ]
    }
   ],
   "source": [
    "%%timeit\n",
    "type('Filoger')"
   ]
  },
  {
   "cell_type": "code",
   "execution_count": 12,
   "id": "f02cb85b-69ec-419b-be83-69df4b358e75",
   "metadata": {},
   "outputs": [
    {
     "name": "stdout",
     "output_type": "stream",
     "text": [
      "81.1 ns ± 9.91 ns per loop (mean ± std. dev. of 7 runs, 10,000,000 loops each)\n"
     ]
    }
   ],
   "source": [
    "%%timeit\n",
    "type('19.0')"
   ]
  },
  {
   "cell_type": "code",
   "execution_count": 13,
   "id": "caba497e-a116-4c44-bd79-f7efe9cd20aa",
   "metadata": {},
   "outputs": [
    {
     "name": "stdout",
     "output_type": "stream",
     "text": [
      "73 ns ± 16.1 ns per loop (mean ± std. dev. of 7 runs, 10,000,000 loops each)\n"
     ]
    }
   ],
   "source": [
    "%%timeit\n",
    "type(18)"
   ]
  },
  {
   "cell_type": "code",
   "execution_count": 14,
   "id": "3e770742-6e97-485c-bfe3-027ed460d04f",
   "metadata": {},
   "outputs": [
    {
     "name": "stdout",
     "output_type": "stream",
     "text": [
      "80.3 ns ± 10.4 ns per loop (mean ± std. dev. of 7 runs, 10,000,000 loops each)\n"
     ]
    }
   ],
   "source": [
    "%%timeit\n",
    "type(13.0)"
   ]
  },
  {
   "cell_type": "code",
   "execution_count": 15,
   "id": "9601df69-d63f-4db1-9cef-3963878e69cb",
   "metadata": {},
   "outputs": [
    {
     "name": "stdout",
     "output_type": "stream",
     "text": [
      "64 ns ± 1.85 ns per loop (mean ± std. dev. of 7 runs, 10,000,000 loops each)\n"
     ]
    }
   ],
   "source": [
    "%%timeit\n",
    "type(True)"
   ]
  },
  {
   "cell_type": "markdown",
   "id": "e2cc464c-7af6-4873-a5da-7a65bef6e926",
   "metadata": {},
   "source": [
    "## Exercise 4"
   ]
  },
  {
   "cell_type": "code",
   "execution_count": 4,
   "id": "b21bf41c-0e8a-489f-9e24-deab288ed8d2",
   "metadata": {},
   "outputs": [
    {
     "name": "stdin",
     "output_type": "stream",
     "text": [
      " 18\n"
     ]
    },
    {
     "name": "stdout",
     "output_type": "stream",
     "text": [
      "Circle area is 254.469\n"
     ]
    }
   ],
   "source": [
    "from math import pi\n",
    "r = float(input()) / 2 # use float casting because maybe user enter 1.9 or even 1, both number is handled\n",
    "print('Circle area is {0:.3f}'.format(pi * (r ** 2)))"
   ]
  },
  {
   "cell_type": "markdown",
   "id": "453db079-866e-4137-86b7-1b9cff2b303f",
   "metadata": {},
   "source": [
    "## Exercise 5"
   ]
  },
  {
   "cell_type": "code",
   "execution_count": 5,
   "id": "a43afb85-3921-440b-b468-f27cead4ce3b",
   "metadata": {},
   "outputs": [
    {
     "name": "stdin",
     "output_type": "stream",
     "text": [
      " 18\n",
      " 4\n",
      " 5\n"
     ]
    },
    {
     "name": "stdout",
     "output_type": "stream",
     "text": [
      "Volume of cuboid is 360.00 and Surface area of cuboid is 364.000!\n"
     ]
    }
   ],
   "source": [
    "width = float(input()) # use float casting because maybe user enter 1.9 or even 1, both number is handled\n",
    "height = float(input()) # use float casting because maybe user enter 1.9 or even 1, both number is handled\n",
    "length = float(input()) # use float casting because maybe user enter 1.9 or even 1, both number is handled\n",
    "volume = width * height * length\n",
    "area = 2 * ((width * length) + (width * height) + (height * length))\n",
    "print('Volume of cuboid is {0:.2f} and Surface area of cuboid is {1:.3f}!'.format(volume, area))"
   ]
  },
  {
   "cell_type": "markdown",
   "id": "97c3a2e1-15cc-4c61-848c-cfc2b2e7b329",
   "metadata": {},
   "source": [
    "## Exercise 6"
   ]
  },
  {
   "cell_type": "code",
   "execution_count": 3,
   "id": "645adc44-9d31-4fee-a5fa-4f739172813e",
   "metadata": {},
   "outputs": [
    {
     "name": "stdin",
     "output_type": "stream",
     "text": [
      " 8\n",
      " 4\n"
     ]
    },
    {
     "name": "stdout",
     "output_type": "stream",
     "text": [
      "sum = 12, division=2, subtraction=4, multiplication=32\n"
     ]
    }
   ],
   "source": [
    "number_1 = float(input()) # use float casting because maybe user enter 1.9 or even 1, both number is handled\n",
    "number_2 = float(input()) # use float casting because maybe user enter 1.9 or even 1, both number is handled\n",
    "su = number_1 + number_2\n",
    "di = number_1 / number_2\n",
    "sub = number_1 - number_2\n",
    "mul = number_1 * number_2\n",
    "print('sum = {0}, division={1}, subtraction={2}, multiplication={3}'.format(int(su), int(di), int(sub), int(mul)))"
   ]
  },
  {
   "cell_type": "markdown",
   "id": "4dce921f-e65b-443e-a7ca-aa8811976a0b",
   "metadata": {},
   "source": [
    "## Exercise 7"
   ]
  },
  {
   "cell_type": "code",
   "execution_count": 6,
   "id": "f9c23cbe-a665-406e-9a1a-20299dbc8a11",
   "metadata": {},
   "outputs": [
    {
     "name": "stdin",
     "output_type": "stream",
     "text": [
      " string_1\n",
      " string_2\n"
     ]
    },
    {
     "name": "stdout",
     "output_type": "stream",
     "text": [
      "result is \"string_1 string_2\"\n"
     ]
    }
   ],
   "source": [
    "string_1 = input()\n",
    "string_2 = input()\n",
    "string_3 = string_1 + ' ' + string_2\n",
    "print('result is \"{0}\"'.format(string_3))"
   ]
  },
  {
   "cell_type": "markdown",
   "id": "b11128f3-d16f-4fc1-b61c-98cb284de672",
   "metadata": {},
   "source": [
    "## Exercise 8"
   ]
  },
  {
   "cell_type": "code",
   "execution_count": 4,
   "id": "3987f630-6839-4d80-8bd6-52153b705846",
   "metadata": {},
   "outputs": [
    {
     "name": "stdin",
     "output_type": "stream",
     "text": [
      " 86\n"
     ]
    },
    {
     "name": "stdout",
     "output_type": "stream",
     "text": [
      "86 degree Fahrenheit is equal to 30.0 degree Celsius.\n"
     ]
    }
   ],
   "source": [
    "farenheit = float(input()) # use float casting because maybe user enter 1.9 or even 1, both number is handled\n",
    "celsius = (farenheit - 32) * (5 / 9)\n",
    "print('{0} degree Fahrenheit is equal to {1:.1f} degree Celsius.'.format(int(farenheit), celsius))"
   ]
  },
  {
   "cell_type": "markdown",
   "id": "84a9fe77-d1de-486e-8d8a-6eca22468277",
   "metadata": {},
   "source": [
    "## Exercise 9"
   ]
  },
  {
   "cell_type": "code",
   "execution_count": 21,
   "id": "8a03100b-1797-40cc-87ea-aca5a850e77a",
   "metadata": {},
   "outputs": [
    {
     "name": "stdout",
     "output_type": "stream",
     "text": [
      "201\n"
     ]
    }
   ],
   "source": [
    "lst = [8, 120, 83, 89, 24, 97.5, 201]\n",
    "print(max(lst))"
   ]
  },
  {
   "cell_type": "markdown",
   "id": "d2f84eef-b565-4a8e-8d46-674733e1ff89",
   "metadata": {},
   "source": [
    "## Exercise 10"
   ]
  },
  {
   "cell_type": "code",
   "execution_count": 9,
   "id": "94a669e3-25de-4a52-8c70-e9130aa67f1b",
   "metadata": {},
   "outputs": [
    {
     "name": "stdin",
     "output_type": "stream",
     "text": [
      " 9\n"
     ]
    },
    {
     "name": "stdout",
     "output_type": "stream",
     "text": [
      "Factorial of 9 is 362880\n"
     ]
    }
   ],
   "source": [
    "number = int(input())\n",
    "result = 1\n",
    "for i in range(1, number + 1):\n",
    "    result *= i\n",
    "print('Factorial of {0} is {1}'.format(number, result))"
   ]
  },
  {
   "cell_type": "markdown",
   "id": "aed6b571-a282-4cbd-892f-7b2b5cc98843",
   "metadata": {},
   "source": [
    "## Exercise 11"
   ]
  },
  {
   "cell_type": "code",
   "execution_count": 23,
   "id": "efb8d959-f226-40da-a3dc-ced2f92bc246",
   "metadata": {},
   "outputs": [
    {
     "name": "stdin",
     "output_type": "stream",
     "text": [
      " 10\n"
     ]
    },
    {
     "name": "stdout",
     "output_type": "stream",
     "text": [
      "Wrong, Guess the higher number!\n"
     ]
    }
   ],
   "source": [
    "import random\n",
    "answer = random.randint(1, 100)\n",
    "user_guess = int(input())\n",
    "\n",
    "if user_guess > answer:\n",
    "    print('Wrong, Guess the lower number!')\n",
    "elif user_guess < answer:\n",
    "    print('Wrong, Guess the higher number!')\n",
    "elif user_guess == answer:\n",
    "    print('Correct, good job')"
   ]
  },
  {
   "cell_type": "markdown",
   "id": "4a53d16e-9411-4b80-8bbc-b701340f9495",
   "metadata": {},
   "source": [
    "## Exercise 12"
   ]
  },
  {
   "cell_type": "code",
   "execution_count": 10,
   "id": "4c9d01c3-7dc8-4da8-a1f8-75c4b7b8cc57",
   "metadata": {},
   "outputs": [
    {
     "name": "stdout",
     "output_type": "stream",
     "text": [
      "0 x 0 = 0\n",
      "1 x 1 = 1\n",
      "2 x 2 = 4\n",
      "3 x 3 = 9\n",
      "4 x 4 = 16\n",
      "5 x 5 = 25\n",
      "6 x 6 = 36\n",
      "7 x 7 = 49\n",
      "8 x 8 = 64\n",
      "9 x 9 = 81\n",
      "10 x 10 = 100\n"
     ]
    }
   ],
   "source": [
    "for i in range(0, 11):\n",
    "    print('{0} x {1} = {2}'.format(i, i, i * i))"
   ]
  },
  {
   "cell_type": "markdown",
   "id": "403b1d20-35a7-48e3-b416-2184d7cdd454",
   "metadata": {},
   "source": [
    "## Exercise 13"
   ]
  },
  {
   "cell_type": "code",
   "execution_count": 11,
   "id": "48bffe28-70ac-4c03-afce-d8e36c684e22",
   "metadata": {},
   "outputs": [
    {
     "name": "stdin",
     "output_type": "stream",
     "text": [
      " 100\n"
     ]
    },
    {
     "name": "stdout",
     "output_type": "stream",
     "text": [
      "The sum of all numbers is 5050.\n"
     ]
    }
   ],
   "source": [
    "number = int(input())\n",
    "total = 0\n",
    "for i in range(0, number + 1):\n",
    "    total += i\n",
    "print('The sum of all numbers is {0}.'.format(total))"
   ]
  },
  {
   "cell_type": "markdown",
   "id": "6f032f25-1407-4a50-853b-8644b7568d48",
   "metadata": {},
   "source": [
    "## Exercise 14"
   ]
  },
  {
   "cell_type": "code",
   "execution_count": 26,
   "id": "ce75f046-704f-4e91-b14a-2492a9b2b27b",
   "metadata": {},
   "outputs": [
    {
     "name": "stdout",
     "output_type": "stream",
     "text": [
      "['lemon', 'mango', 'orange', 'banana']\n",
      "['lemon', 'mango', 'orange', 'banana']\n"
     ]
    }
   ],
   "source": [
    "lst = ['banana', 'orange', 'mango', 'lemon']\n",
    "\n",
    "# method 1 with loop\n",
    "new_lst = []\n",
    "for i in range(len(lst) - 1, -1, -1):\n",
    "    new_lst.append(lst[i])\n",
    "print(new_lst)\n",
    "\n",
    "# method 2 without loop\n",
    "print(lst[::-1])"
   ]
  },
  {
   "cell_type": "code",
   "execution_count": null,
   "id": "952fb29c-7a1d-4d18-86b9-1922bb049442",
   "metadata": {},
   "outputs": [],
   "source": []
  }
 ],
 "metadata": {
  "kernelspec": {
   "display_name": "Python 3",
   "language": "python",
   "name": "python3"
  },
  "language_info": {
   "codemirror_mode": {
    "name": "ipython",
    "version": 3
   },
   "file_extension": ".py",
   "mimetype": "text/x-python",
   "name": "python",
   "nbconvert_exporter": "python",
   "pygments_lexer": "ipython3",
   "version": "3.9.1"
  }
 },
 "nbformat": 4,
 "nbformat_minor": 5
}
