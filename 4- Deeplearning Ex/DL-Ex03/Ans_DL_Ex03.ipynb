{
 "cells": [
  {
   "cell_type": "code",
   "execution_count": 1,
   "id": "afa40bad",
   "metadata": {},
   "outputs": [
    {
     "name": "stdout",
     "output_type": "stream",
     "text": [
      "WARNING:tensorflow:From C:\\Users\\Hamed\\AppData\\Local\\Programs\\Python\\Python39\\lib\\site-packages\\keras\\src\\losses.py:2976: The name tf.losses.sparse_softmax_cross_entropy is deprecated. Please use tf.compat.v1.losses.sparse_softmax_cross_entropy instead.\n",
      "\n"
     ]
    }
   ],
   "source": [
    "import numpy as np \n",
    "import tensorflow as tf\n",
    "from tensorflow.keras import layers, models\n",
    "from tensorflow.keras.datasets import cifar10\n",
    "import matplotlib.pyplot as plt\n",
    "\n",
    "#Dataaugmentation\n",
    "from tensorflow.keras.preprocessing.image import ImageDataGenerator\n",
    "\n",
    "#Earlystopping\n",
    "from tensorflow.keras.callbacks import EarlyStopping"
   ]
  },
  {
   "cell_type": "code",
   "execution_count": 2,
   "id": "fab3d8b0",
   "metadata": {},
   "outputs": [],
   "source": [
    "(x_train, y_train), (x_test, y_test) = cifar10.load_data()"
   ]
  },
  {
   "cell_type": "code",
   "execution_count": 3,
   "id": "5165d80b-dccc-4243-8f9a-a12f76fcd632",
   "metadata": {},
   "outputs": [
    {
     "name": "stdout",
     "output_type": "stream",
     "text": [
      "(50000, 32, 32, 3) (50000, 1) (10000, 32, 32, 3) (10000, 1)\n"
     ]
    }
   ],
   "source": [
    "print(x_train.shape, y_train.shape, x_test.shape, y_test.shape)"
   ]
  },
  {
   "cell_type": "code",
   "execution_count": 4,
   "id": "37c327ca",
   "metadata": {},
   "outputs": [],
   "source": [
    "# Scaling\n",
    "x_train = x_train/255.0\n",
    "x_test = x_test/255.0"
   ]
  },
  {
   "cell_type": "code",
   "execution_count": 5,
   "id": "920d0536",
   "metadata": {},
   "outputs": [],
   "source": [
    "x_train = x_train.reshape(x_train.shape[0], 32, 32, 3)\n",
    "x_test = x_test.reshape(x_test.shape[0], 32, 32, 3)"
   ]
  },
  {
   "cell_type": "code",
   "execution_count": 6,
   "id": "dc2c67a8-9731-4fcc-a6c0-0b9ee8713686",
   "metadata": {},
   "outputs": [],
   "source": [
    "def augment_images(images):\n",
    "    augmented_images = []\n",
    "    for image in images:\n",
    "        augmented_image = tf.image.rot90(image, k=tf.random.uniform(shape=[], minval=0, maxval=4, dtype=tf.int32)) # Randomly rotate the image by 0, 90, 180 and 270 degrees\n",
    "        augmented_image = tf.image.random_flip_left_right(image)  # Randomly flip the image horizontally\n",
    "        augmented_image = tf.image.random_brightness(augmented_image, max_delta=0.1)  # Randomly adjust the brightness\n",
    "        augmented_image = tf.image.random_contrast(augmented_image, lower=0.9, upper=1.1)  # Randomly adjust the contrast\n",
    "        # augmented_image = random_rotate_image(augmented_image)  # Randomly rotate the image\n",
    "        augmented_images.append(augmented_image)\n",
    "    return tf.stack(augmented_images)  # Stack the augmented images into a single tensor\n",
    "\n",
    "# Generate augmented data\n",
    "num_augmented = x_train.shape[0]  # Number of augmented images to generate\n",
    "x_train_augmented = augment_images(x_train[:num_augmented])\n",
    "y_train_augmented = y_train[:num_augmented]\n",
    "\n",
    "# Concatenate original and augmented data\n",
    "x_train_combined = tf.concat([x_train, x_train_augmented], axis=0)\n",
    "y_train_combined = tf.concat([y_train, y_train_augmented], axis=0)"
   ]
  },
  {
   "cell_type": "code",
   "execution_count": 7,
   "id": "135ed693-a947-41a7-9139-7f84651d4b25",
   "metadata": {},
   "outputs": [
    {
     "name": "stdout",
     "output_type": "stream",
     "text": [
      "Original x_train shape: (50000, 32, 32, 3)\n",
      "Augmented x_train shape: (50000, 32, 32, 3)\n",
      "Combined x_train shape: (100000, 32, 32, 3)\n",
      "Original y_train shape: (50000, 1)\n",
      "Combined y_train shape: (100000, 1)\n"
     ]
    }
   ],
   "source": [
    "# Print the shapes to confirm\n",
    "print(\"Original x_train shape:\", x_train.shape)\n",
    "print(\"Augmented x_train shape:\", x_train_augmented.shape)\n",
    "print(\"Combined x_train shape:\", x_train_combined.shape)\n",
    "print(\"Original y_train shape:\", y_train.shape)\n",
    "print(\"Combined y_train shape:\", y_train_combined.shape)"
   ]
  },
  {
   "cell_type": "code",
   "execution_count": 8,
   "id": "888bea82",
   "metadata": {},
   "outputs": [
    {
     "name": "stdout",
     "output_type": "stream",
     "text": [
      "WARNING:tensorflow:From C:\\Users\\Hamed\\AppData\\Local\\Programs\\Python\\Python39\\lib\\site-packages\\keras\\src\\backend.py:873: The name tf.get_default_graph is deprecated. Please use tf.compat.v1.get_default_graph instead.\n",
      "\n"
     ]
    }
   ],
   "source": [
    "model = models.Sequential([\n",
    "    layers.Flatten(input_shape = (32, 32, 3)),\n",
    "    layers.Dense(1024, activation='relu'),\n",
    "    layers.BatchNormalization(),\n",
    "    layers.Dropout(0.2),\n",
    "    layers.Dense(256, activation='relu'),\n",
    "    layers.BatchNormalization(),\n",
    "    layers.Dropout(0.5),\n",
    "    layers.Dense(64, activation='relu'),\n",
    "    layers.Dropout(0.5),\n",
    "    layers.Dense(10, activation='softmax'),\n",
    "])"
   ]
  },
  {
   "cell_type": "code",
   "execution_count": 9,
   "id": "d02611d4",
   "metadata": {},
   "outputs": [
    {
     "name": "stdout",
     "output_type": "stream",
     "text": [
      "WARNING:tensorflow:From C:\\Users\\Hamed\\AppData\\Local\\Programs\\Python\\Python39\\lib\\site-packages\\keras\\src\\optimizers\\__init__.py:309: The name tf.train.Optimizer is deprecated. Please use tf.compat.v1.train.Optimizer instead.\n",
      "\n"
     ]
    }
   ],
   "source": [
    "model.compile(optimizer='adam', loss='sparse_categorical_crossentropy', metrics='accuracy')"
   ]
  },
  {
   "cell_type": "code",
   "execution_count": 10,
   "id": "eff6cf61",
   "metadata": {},
   "outputs": [],
   "source": [
    "#EarlyStopping\n",
    "early_stop = EarlyStopping(monitor='val_loss', patience=3, restore_best_weights=True)"
   ]
  },
  {
   "cell_type": "code",
   "execution_count": 11,
   "id": "56578686",
   "metadata": {},
   "outputs": [
    {
     "name": "stdout",
     "output_type": "stream",
     "text": [
      "Epoch 1/50\n",
      "WARNING:tensorflow:From C:\\Users\\Hamed\\AppData\\Local\\Programs\\Python\\Python39\\lib\\site-packages\\keras\\src\\utils\\tf_utils.py:492: The name tf.ragged.RaggedTensorValue is deprecated. Please use tf.compat.v1.ragged.RaggedTensorValue instead.\n",
      "\n",
      "WARNING:tensorflow:From C:\\Users\\Hamed\\AppData\\Local\\Programs\\Python\\Python39\\lib\\site-packages\\keras\\src\\engine\\base_layer_utils.py:384: The name tf.executing_eagerly_outside_functions is deprecated. Please use tf.compat.v1.executing_eagerly_outside_functions instead.\n",
      "\n",
      "704/704 [==============================] - 47s 64ms/step - loss: 2.1217 - accuracy: 0.2725 - val_loss: 1.8383 - val_accuracy: 0.3188\n",
      "Epoch 2/50\n",
      "704/704 [==============================] - 45s 64ms/step - loss: 1.7890 - accuracy: 0.3588 - val_loss: 1.7068 - val_accuracy: 0.3845\n",
      "Epoch 3/50\n",
      "704/704 [==============================] - 45s 64ms/step - loss: 1.7256 - accuracy: 0.3837 - val_loss: 1.7336 - val_accuracy: 0.3782\n",
      "Epoch 4/50\n",
      "704/704 [==============================] - 45s 64ms/step - loss: 1.6930 - accuracy: 0.3965 - val_loss: 1.7148 - val_accuracy: 0.3676\n",
      "Epoch 5/50\n",
      "704/704 [==============================] - 45s 64ms/step - loss: 1.6643 - accuracy: 0.4076 - val_loss: 1.7055 - val_accuracy: 0.4029\n",
      "Epoch 6/50\n",
      "704/704 [==============================] - 45s 64ms/step - loss: 1.6400 - accuracy: 0.4169 - val_loss: 1.6934 - val_accuracy: 0.3866\n",
      "Epoch 7/50\n",
      "704/704 [==============================] - 46s 65ms/step - loss: 1.6208 - accuracy: 0.4255 - val_loss: 1.5503 - val_accuracy: 0.4522\n",
      "Epoch 8/50\n",
      "704/704 [==============================] - 45s 64ms/step - loss: 1.6019 - accuracy: 0.4315 - val_loss: 1.5170 - val_accuracy: 0.4586\n",
      "Epoch 9/50\n",
      "704/704 [==============================] - 46s 65ms/step - loss: 1.5909 - accuracy: 0.4373 - val_loss: 1.5167 - val_accuracy: 0.4515\n",
      "Epoch 10/50\n",
      "704/704 [==============================] - 46s 65ms/step - loss: 1.5801 - accuracy: 0.4401 - val_loss: 1.5650 - val_accuracy: 0.4503\n",
      "Epoch 11/50\n",
      "704/704 [==============================] - 46s 65ms/step - loss: 1.5694 - accuracy: 0.4434 - val_loss: 1.5297 - val_accuracy: 0.4510\n",
      "Epoch 12/50\n",
      "704/704 [==============================] - 46s 65ms/step - loss: 1.5593 - accuracy: 0.4477 - val_loss: 1.6902 - val_accuracy: 0.4010\n"
     ]
    }
   ],
   "source": [
    "hist = model.fit(x_train_combined, y_train_combined, batch_size=128, epochs=50, validation_split=0.1, callbacks=[early_stop])"
   ]
  },
  {
   "cell_type": "code",
   "execution_count": 14,
   "id": "069be119",
   "metadata": {},
   "outputs": [
    {
     "data": {
      "image/png": "[encoded data removed]",
      "text/plain": [
       "<Figure size 432x288 with 1 Axes>"
      ]
     },
     "metadata": {
      "needs_background": "light"
     },
     "output_type": "display_data"
    }
   ],
   "source": [
    "plt.plot(hist.history['loss'])\n",
    "plt.plot(hist.history['val_loss'])\n",
    "plt.title('val_loss vs loss')\n",
    "plt.ylabel('loss')\n",
    "plt.xlabel('epochs')\n",
    "plt.legend(['train', 'test'])\n",
    "plt.show()"
   ]
  },
  {
   "cell_type": "code",
   "execution_count": 15,
   "id": "991edce1",
   "metadata": {},
   "outputs": [
    {
     "name": "stdout",
     "output_type": "stream",
     "text": [
      "313/313 [==============================] - 2s 6ms/step - loss: 1.5010 - accuracy: 0.4582\n",
      "test_loss:  1.5009957551956177\n",
      "test_acc:  0.45820000767707825\n"
     ]
    }
   ],
   "source": [
    "test_loss, test_acc = model.evaluate(x_test, y_test)\n",
    "print('test_loss: ', test_loss)\n",
    "print('test_acc: ', test_acc)"
   ]
  },
  {
   "cell_type": "code",
   "execution_count": 16,
   "id": "b7bf9e4b",
   "metadata": {},
   "outputs": [
    {
     "data": {
      "image/png": "[encoded data removed]",
      "text/plain": [
       "<Figure size 432x288 with 1 Axes>"
      ]
     },
     "metadata": {
      "needs_background": "light"
     },
     "output_type": "display_data"
    }
   ],
   "source": [
    "plt.plot(hist.history['accuracy'])\n",
    "plt.plot(hist.history['val_accuracy'])\n",
    "plt.title('val_acc vs acc')\n",
    "plt.ylabel('accuracy')\n",
    "plt.xlabel('epochs')\n",
    "plt.legend(['train', 'test'])\n",
    "plt.show()"
   ]
  },
  {
   "cell_type": "code",
   "execution_count": 21,
   "id": "6377b8fa-4839-4968-a855-da6a47e4e872",
   "metadata": {},
   "outputs": [],
   "source": [
    "# We can see in the val_acc vs acc diagram that in the last 3 epochs, the accuracy of the model on the train data has increased\n",
    "# but the accuracy of the test data has decreased and by setting the earlystop, the model has been prevented from overfitting.\n",
    "# For the solution, we can reduce the layers or turn off some neurons (dropout), or prepare or generate more data for model training, \n",
    "# or use regularization methods such as dropout, scaling, batch normalization and earlystop.\n",
    "# Finally, if there is no way, we will use another architecture"
   ]
  },
  {
   "cell_type": "code",
   "execution_count": null,
   "id": "b48e6d6c-0e9c-407a-837c-a4d20ea56d3b",
   "metadata": {},
   "outputs": [],
   "source": []
  }
 ],
 "metadata": {
  "kernelspec": {
   "display_name": "Python 3",
   "language": "python",
   "name": "python3"
  },
  "language_info": {
   "codemirror_mode": {
    "name": "ipython",
    "version": 3
   },
   "file_extension": ".py",
   "mimetype": "text/x-python",
   "name": "python",
   "nbconvert_exporter": "python",
   "pygments_lexer": "ipython3",
   "version": "3.9.1"
  }
 },
 "nbformat": 4,
 "nbformat_minor": 5
}
