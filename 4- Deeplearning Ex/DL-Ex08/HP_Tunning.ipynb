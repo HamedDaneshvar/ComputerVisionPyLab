{
 "cells": [
  {
   "cell_type": "code",
   "execution_count": 1,
   "id": "apbhdtt7u_HE",
   "metadata": {
    "colab": {
     "base_uri": "https://localhost:8080/"
    },
    "id": "apbhdtt7u_HE",
    "outputId": "ca936a0b-a033-4330-c5ec-ba766934aec9"
   },
   "outputs": [
    {
     "name": "stdout",
     "output_type": "stream",
     "text": [
      "Requirement already satisfied: keras_tuner in /usr/local/lib/python3.10/dist-packages (1.4.7)\n",
      "Requirement already satisfied: keras in /usr/local/lib/python3.10/dist-packages (from keras_tuner) (2.15.0)\n",
      "Requirement already satisfied: packaging in /usr/local/lib/python3.10/dist-packages (from keras_tuner) (24.1)\n",
      "Requirement already satisfied: requests in /usr/local/lib/python3.10/dist-packages (from keras_tuner) (2.31.0)\n",
      "Requirement already satisfied: kt-legacy in /usr/local/lib/python3.10/dist-packages (from keras_tuner) (1.0.5)\n",
      "Requirement already satisfied: charset-normalizer<4,>=2 in /usr/local/lib/python3.10/dist-packages (from requests->keras_tuner) (3.3.2)\n",
      "Requirement already satisfied: idna<4,>=2.5 in /usr/local/lib/python3.10/dist-packages (from requests->keras_tuner) (3.7)\n",
      "Requirement already satisfied: urllib3<3,>=1.21.1 in /usr/local/lib/python3.10/dist-packages (from requests->keras_tuner) (2.0.7)\n",
      "Requirement already satisfied: certifi>=2017.4.17 in /usr/local/lib/python3.10/dist-packages (from requests->keras_tuner) (2024.7.4)\n"
     ]
    }
   ],
   "source": [
    "!pip install keras_tuner --upgrade"
   ]
  },
  {
   "cell_type": "code",
   "execution_count": 2,
   "id": "49d213bb",
   "metadata": {
    "execution": {
     "iopub.execute_input": "2024-04-22T22:04:07.573633Z",
     "iopub.status.busy": "2024-04-22T22:04:07.572567Z",
     "iopub.status.idle": "2024-04-22T22:04:23.540507Z",
     "shell.execute_reply": "2024-04-22T22:04:23.539110Z"
    },
    "id": "49d213bb",
    "papermill": {
     "duration": 15.977594,
     "end_time": "2024-04-22T22:04:23.543426",
     "exception": false,
     "start_time": "2024-04-22T22:04:07.565832",
     "status": "completed"
    },
    "tags": []
   },
   "outputs": [],
   "source": [
    "from keras.datasets import mnist\n",
    "from keras.utils import to_categorical\n",
    "from keras import layers\n",
    "from keras import models\n",
    "from keras_tuner.tuners import GridSearch, RandomSearch\n",
    "import matplotlib.pyplot as plt"
   ]
  },
  {
   "cell_type": "code",
   "execution_count": 3,
   "id": "178a021f",
   "metadata": {
    "execution": {
     "iopub.execute_input": "2024-04-22T22:04:23.555329Z",
     "iopub.status.busy": "2024-04-22T22:04:23.554553Z",
     "iopub.status.idle": "2024-04-22T22:04:24.084690Z",
     "shell.execute_reply": "2024-04-22T22:04:24.083226Z"
    },
    "id": "178a021f",
    "papermill": {
     "duration": 0.539267,
     "end_time": "2024-04-22T22:04:24.087617",
     "exception": false,
     "start_time": "2024-04-22T22:04:23.548350",
     "status": "completed"
    },
    "tags": []
   },
   "outputs": [],
   "source": [
    "# Load Data\n",
    "(train_images, train_labels), (test_images, test_labels) = mnist.load_data()"
   ]
  },
  {
   "cell_type": "code",
   "execution_count": 4,
   "id": "9c538222",
   "metadata": {
    "colab": {
     "base_uri": "https://localhost:8080/"
    },
    "execution": {
     "iopub.execute_input": "2024-04-22T22:04:24.100166Z",
     "iopub.status.busy": "2024-04-22T22:04:24.099716Z",
     "iopub.status.idle": "2024-04-22T22:04:24.106857Z",
     "shell.execute_reply": "2024-04-22T22:04:24.105424Z"
    },
    "id": "9c538222",
    "outputId": "eda15a20-ad77-4277-b5e0-69059e3a51bd",
    "papermill": {
     "duration": 0.016675,
     "end_time": "2024-04-22T22:04:24.109606",
     "exception": false,
     "start_time": "2024-04-22T22:04:24.092931",
     "status": "completed"
    },
    "tags": []
   },
   "outputs": [
    {
     "name": "stdout",
     "output_type": "stream",
     "text": [
      "(60000, 28, 28)\n",
      "(60000,)\n",
      "(10000, 28, 28)\n",
      "(10000,)\n"
     ]
    }
   ],
   "source": [
    "print(train_images.shape)\n",
    "print(train_labels.shape)\n",
    "print(test_images.shape)\n",
    "print(test_labels.shape)"
   ]
  },
  {
   "cell_type": "code",
   "execution_count": 5,
   "id": "48eb66b0",
   "metadata": {
    "colab": {
     "base_uri": "https://localhost:8080/",
     "height": 452
    },
    "execution": {
     "iopub.execute_input": "2024-04-22T22:04:24.122991Z",
     "iopub.status.busy": "2024-04-22T22:04:24.121837Z",
     "iopub.status.idle": "2024-04-22T22:04:24.450892Z",
     "shell.execute_reply": "2024-04-22T22:04:24.449655Z"
    },
    "id": "48eb66b0",
    "outputId": "19eda7c7-41e9-45b6-d494-50f64b00d96c",
    "papermill": {
     "duration": 0.338198,
     "end_time": "2024-04-22T22:04:24.453386",
     "exception": false,
     "start_time": "2024-04-22T22:04:24.115188",
     "status": "completed"
    },
    "tags": []
   },
   "outputs": [
    {
     "data": {
      "image/png": "[encoded data removed]",
      "text/plain": [
       "<Figure size 640x480 with 1 Axes>"
      ]
     },
     "metadata": {},
     "output_type": "display_data"
    }
   ],
   "source": [
    "image_index = 0\n",
    "plt.imshow(train_images[image_index], cmap='gray')\n",
    "plt.title('Label: {}'.format(train_labels[image_index]))\n",
    "plt.show()"
   ]
  },
  {
   "cell_type": "code",
   "execution_count": 6,
   "id": "7518a661",
   "metadata": {
    "execution": {
     "iopub.execute_input": "2024-04-22T22:04:24.467502Z",
     "iopub.status.busy": "2024-04-22T22:04:24.466457Z",
     "iopub.status.idle": "2024-04-22T22:04:24.624099Z",
     "shell.execute_reply": "2024-04-22T22:04:24.622809Z"
    },
    "id": "7518a661",
    "papermill": {
     "duration": 0.167913,
     "end_time": "2024-04-22T22:04:24.626846",
     "exception": false,
     "start_time": "2024-04-22T22:04:24.458933",
     "status": "completed"
    },
    "tags": []
   },
   "outputs": [],
   "source": [
    "def build_model(hp):\n",
    "    model = models.Sequential()\n",
    "    model.add(layers.Conv2D(hp.Int(\"Num_of_Kernel_1\", min_value=32, max_value=128, step=32), (3, 3), activation=\"relu\", input_shape=(28,28,1)))\n",
    "    model.add(layers.MaxPool2D((2,2)))\n",
    "    model.add(layers.Conv2D(hp.Int(\"Num_of_Kernel_2\", min_value=32, max_value=128, step=32), (3, 3), activation=\"relu\"))\n",
    "    model.add(layers.MaxPool2D((2,2)))\n",
    "    model.add(layers.Conv2D(hp.Int(\"Num_of_Kernel_3\", min_value=32, max_value=128, step=32), (3, 3), activation=\"relu\"))\n",
    "\n",
    "    model.add(layers.Flatten())\n",
    "    model.add(layers.Dense(64, activation=\"relu\"))\n",
    "    model.add(layers.Dense(10, activation=\"softmax\"))\n",
    "    model.compile(optimizer=hp.Choice(\"optimizer\", values=[\"adam\", \"rmsprop\"]), loss=\"categorical_crossentropy\", metrics=[\"accuracy\"])\n",
    "\n",
    "    return model\n"
   ]
  },
  {
   "cell_type": "code",
   "execution_count": 7,
   "id": "QAAd4sjjwJ9o",
   "metadata": {
    "id": "QAAd4sjjwJ9o"
   },
   "outputs": [],
   "source": [
    "train_images = train_images.reshape((60000, 28, 28, 1))\n",
    "train_images = train_images.astype(\"float32\") / 255\n",
    "\n",
    "test_images = test_images.reshape((10000, 28, 28, 1))\n",
    "test_images = test_images.astype(\"float32\") / 255\n",
    "\n",
    "train_labels = to_categorical(train_labels)\n",
    "test_labels = to_categorical(test_labels)"
   ]
  },
  {
   "cell_type": "markdown",
   "id": "9zAzI5H9cipl",
   "metadata": {
    "id": "9zAzI5H9cipl"
   },
   "source": [
    "## Find Hyper Parameter"
   ]
  },
  {
   "cell_type": "code",
   "execution_count": 8,
   "id": "3JevyMXWwNOl",
   "metadata": {
    "colab": {
     "base_uri": "https://localhost:8080/"
    },
    "id": "3JevyMXWwNOl",
    "outputId": "9bb8ff33-d9ab-40c9-9dd2-17556fe02c3c"
   },
   "outputs": [
    {
     "name": "stdout",
     "output_type": "stream",
     "text": [
      "Trial 128 Complete [00h 00m 28s]\n",
      "val_accuracy: 0.9928333163261414\n",
      "\n",
      "Best val_accuracy So Far: 0.9928333163261414\n",
      "Total elapsed time: 01h 13m 15s\n"
     ]
    }
   ],
   "source": [
    "tuner = GridSearch(build_model, objective='val_accuracy', max_trials=128, executions_per_trial=1,)\n",
    "tuner.search(x=train_images, y=train_labels, epochs=3, validation_split=0.1)"
   ]
  },
  {
   "cell_type": "code",
   "execution_count": 11,
   "id": "bab90bdf",
   "metadata": {
    "colab": {
     "base_uri": "https://localhost:8080/"
    },
    "execution": {
     "iopub.execute_input": "2024-04-22T22:04:24.686534Z",
     "iopub.status.busy": "2024-04-22T22:04:24.686134Z",
     "iopub.status.idle": "2024-04-22T22:06:45.683873Z",
     "shell.execute_reply": "2024-04-22T22:06:45.682486Z"
    },
    "id": "bab90bdf",
    "outputId": "f60bf67d-9a96-4234-f09e-7a5f1297a125",
    "papermill": {
     "duration": 141.008782,
     "end_time": "2024-04-22T22:06:45.686981",
     "exception": false,
     "start_time": "2024-04-22T22:04:24.678199",
     "status": "completed"
    },
    "tags": []
   },
   "outputs": [
    {
     "name": "stdout",
     "output_type": "stream",
     "text": [
      "Results summary\n",
      "Results in ./untitled_project\n",
      "Showing 10 best trials\n",
      "Objective(name=\"val_accuracy\", direction=\"max\")\n",
      "\n",
      "Trial 127 summary\n",
      "Hyperparameters:\n",
      "Num_of_Kernel_1: 128\n",
      "Num_of_Kernel_2: 128\n",
      "Num_of_Kernel_3: 128\n",
      "optimizer: rmsprop\n",
      "Score: 0.9928333163261414\n",
      "\n",
      "Trial 022 summary\n",
      "Hyperparameters:\n",
      "Num_of_Kernel_1: 32\n",
      "Num_of_Kernel_2: 96\n",
      "Num_of_Kernel_3: 128\n",
      "optimizer: adam\n",
      "Score: 0.9926666617393494\n",
      "\n",
      "Trial 055 summary\n",
      "Hyperparameters:\n",
      "Num_of_Kernel_1: 64\n",
      "Num_of_Kernel_2: 96\n",
      "Num_of_Kernel_3: 128\n",
      "optimizer: rmsprop\n",
      "Score: 0.9926666617393494\n",
      "\n",
      "Trial 021 summary\n",
      "Hyperparameters:\n",
      "Num_of_Kernel_1: 32\n",
      "Num_of_Kernel_2: 96\n",
      "Num_of_Kernel_3: 96\n",
      "optimizer: rmsprop\n",
      "Score: 0.9923333525657654\n",
      "\n",
      "Trial 059 summary\n",
      "Hyperparameters:\n",
      "Num_of_Kernel_1: 64\n",
      "Num_of_Kernel_2: 128\n",
      "Num_of_Kernel_3: 64\n",
      "optimizer: rmsprop\n",
      "Score: 0.9921666383743286\n",
      "\n",
      "Trial 117 summary\n",
      "Hyperparameters:\n",
      "Num_of_Kernel_1: 128\n",
      "Num_of_Kernel_2: 96\n",
      "Num_of_Kernel_3: 96\n",
      "optimizer: rmsprop\n",
      "Score: 0.9921666383743286\n",
      "\n",
      "Trial 109 summary\n",
      "Hyperparameters:\n",
      "Num_of_Kernel_1: 128\n",
      "Num_of_Kernel_2: 64\n",
      "Num_of_Kernel_3: 96\n",
      "optimizer: rmsprop\n",
      "Score: 0.9919999837875366\n",
      "\n",
      "Trial 007 summary\n",
      "Hyperparameters:\n",
      "Num_of_Kernel_1: 32\n",
      "Num_of_Kernel_2: 32\n",
      "Num_of_Kernel_3: 128\n",
      "optimizer: rmsprop\n",
      "Score: 0.9918333292007446\n",
      "\n",
      "Trial 060 summary\n",
      "Hyperparameters:\n",
      "Num_of_Kernel_1: 64\n",
      "Num_of_Kernel_2: 128\n",
      "Num_of_Kernel_3: 96\n",
      "optimizer: adam\n",
      "Score: 0.9918333292007446\n",
      "\n",
      "Trial 069 summary\n",
      "Hyperparameters:\n",
      "Num_of_Kernel_1: 96\n",
      "Num_of_Kernel_2: 32\n",
      "Num_of_Kernel_3: 96\n",
      "optimizer: rmsprop\n",
      "Score: 0.9918333292007446\n"
     ]
    }
   ],
   "source": [
    "tuner.results_summary()"
   ]
  },
  {
   "cell_type": "code",
   "execution_count": 12,
   "id": "f64b47be",
   "metadata": {
    "id": "f64b47be",
    "papermill": {
     "duration": 0.250057,
     "end_time": "2024-04-22T22:06:49.072874",
     "exception": false,
     "start_time": "2024-04-22T22:06:48.822817",
     "status": "completed"
    },
    "tags": []
   },
   "outputs": [],
   "source": [
    "best_hps = tuner.get_best_hyperparameters(num_trials=1)[0]"
   ]
  },
  {
   "cell_type": "code",
   "execution_count": 13,
   "id": "i2o8IWK06NdZ",
   "metadata": {
    "colab": {
     "base_uri": "https://localhost:8080/"
    },
    "id": "i2o8IWK06NdZ",
    "outputId": "818d77ca-1664-476b-c1fc-ff7503317ae8"
   },
   "outputs": [
    {
     "data": {
      "text/plain": [
       "{'Num_of_Kernel_1': 128,\n",
       " 'Num_of_Kernel_2': 128,\n",
       " 'Num_of_Kernel_3': 128,\n",
       " 'optimizer': 'rmsprop'}"
      ]
     },
     "execution_count": 13,
     "metadata": {},
     "output_type": "execute_result"
    }
   ],
   "source": [
    "best_hps.values"
   ]
  },
  {
   "cell_type": "code",
   "execution_count": 14,
   "id": "4COb4xnD5ia2",
   "metadata": {
    "colab": {
     "base_uri": "https://localhost:8080/"
    },
    "id": "4COb4xnD5ia2",
    "outputId": "2046e984-8dc9-46be-8ac3-450d58547d9f"
   },
   "outputs": [
    {
     "name": "stdout",
     "output_type": "stream",
     "text": [
      "Epoch 1/3\n",
      "1688/1688 [==============================] - 10s 5ms/step - loss: 0.1277 - accuracy: 0.9600 - val_loss: 0.0777 - val_accuracy: 0.9802\n",
      "Epoch 2/3\n",
      "1688/1688 [==============================] - 8s 5ms/step - loss: 0.0418 - accuracy: 0.9872 - val_loss: 0.0501 - val_accuracy: 0.9858\n",
      "Epoch 3/3\n",
      "1688/1688 [==============================] - 8s 5ms/step - loss: 0.0286 - accuracy: 0.9913 - val_loss: 0.0301 - val_accuracy: 0.9935\n"
     ]
    }
   ],
   "source": [
    "# Build the best model\n",
    "model = tuner.hypermodel.build(best_hps)\n",
    "\n",
    "# Train the best model\n",
    "history = model.fit(train_images, train_labels, epochs=3, validation_split=0.1)"
   ]
  },
  {
   "cell_type": "code",
   "execution_count": 15,
   "id": "qsg6oNFO5kHM",
   "metadata": {
    "colab": {
     "base_uri": "https://localhost:8080/"
    },
    "id": "qsg6oNFO5kHM",
    "outputId": "2b175d9c-d72e-42d7-9091-52fb3cbf377d"
   },
   "outputs": [
    {
     "name": "stdout",
     "output_type": "stream",
     "text": [
      "313/313 [==============================] - 1s 3ms/step - loss: 0.0233 - accuracy: 0.9927\n",
      "Test accuracy: 0.9926999807357788\n",
      "Model: \"sequential_1\"\n",
      "_________________________________________________________________\n",
      " Layer (type)                Output Shape              Param #   \n",
      "=================================================================\n",
      " conv2d_3 (Conv2D)           (None, 26, 26, 128)       1280      \n",
      "                                                                 \n",
      " max_pooling2d_2 (MaxPoolin  (None, 13, 13, 128)       0         \n",
      " g2D)                                                            \n",
      "                                                                 \n",
      " conv2d_4 (Conv2D)           (None, 11, 11, 128)       147584    \n",
      "                                                                 \n",
      " max_pooling2d_3 (MaxPoolin  (None, 5, 5, 128)         0         \n",
      " g2D)                                                            \n",
      "                                                                 \n",
      " conv2d_5 (Conv2D)           (None, 3, 3, 128)         147584    \n",
      "                                                                 \n",
      " flatten_1 (Flatten)         (None, 1152)              0         \n",
      "                                                                 \n",
      " dense_2 (Dense)             (None, 64)                73792     \n",
      "                                                                 \n",
      " dense_3 (Dense)             (None, 10)                650       \n",
      "                                                                 \n",
      "=================================================================\n",
      "Total params: 370890 (1.41 MB)\n",
      "Trainable params: 370890 (1.41 MB)\n",
      "Non-trainable params: 0 (0.00 Byte)\n",
      "_________________________________________________________________\n"
     ]
    }
   ],
   "source": [
    "# Evaluate the model\n",
    "loss, accuracy = model.evaluate(test_images, test_labels)\n",
    "print(f\"Test accuracy: {accuracy}\")\n",
    "\n",
    "# Summary of the model\n",
    "model.summary()"
   ]
  },
  {
   "cell_type": "code",
   "execution_count": 15,
   "id": "RccxYx4e6kf7",
   "metadata": {
    "id": "RccxYx4e6kf7"
   },
   "outputs": [],
   "source": []
  }
 ],
 "metadata": {
  "accelerator": "GPU",
  "colab": {
   "gpuType": "T4",
   "provenance": []
  },
  "kaggle": {
   "accelerator": "none",
   "dataSources": [
    {
     "datasetId": 6542,
     "sourceId": 9512,
     "sourceType": "datasetVersion"
    }
   ],
   "dockerImageVersionId": 30702,
   "isGpuEnabled": false,
   "isInternetEnabled": true,
   "language": "python",
   "sourceType": "notebook"
  },
  "kernelspec": {
   "display_name": "Python 3",
   "language": "python",
   "name": "python3"
  },
  "language_info": {
   "codemirror_mode": {
    "name": "ipython",
    "version": 3
   },
   "file_extension": ".py",
   "mimetype": "text/x-python",
   "name": "python",
   "nbconvert_exporter": "python",
   "pygments_lexer": "ipython3",
   "version": "3.9.1"
  },
  "papermill": {
   "default_parameters": {},
   "duration": 167.94286,
   "end_time": "2024-04-22T22:06:51.047858",
   "environment_variables": {},
   "exception": null,
   "input_path": "__notebook__.ipynb",
   "output_path": "__notebook__.ipynb",
   "parameters": {},
   "start_time": "2024-04-22T22:04:03.104998",
   "version": "2.5.0"
  }
 },
 "nbformat": 4,
 "nbformat_minor": 5
}
