{
 "cells": [
  {
   "cell_type": "code",
   "execution_count": 2,
   "id": "75926282-929b-4577-a200-7ca788c346d7",
   "metadata": {},
   "outputs": [],
   "source": [
    "import pandas as pd\n",
    "import numpy as np\n",
    "from sklearn.preprocessing import MinMaxScaler\n",
    "from sklearn.model_selection import train_test_split\n",
    "import tensorflow as tf\n",
    "from keras.models import Sequential\n",
    "from keras.layers import Dense, LSTM, Dropout\n",
    "\n",
    "# Load the data\n",
    "data = pd.read_csv('META.csv')\n",
    "\n",
    "# Selecting relevant features\n",
    "features = data[['Open', 'High', 'Low', 'Close', 'Adj Close', 'Volume']]\n",
    "\n",
    "# Normalize the features\n",
    "scaler = MinMaxScaler()\n",
    "scaled_features = scaler.fit_transform(features)\n",
    "\n",
    "# Create sequences\n",
    "SEQ_LENGTH = 100\n",
    "\n",
    "def create_sequences(data, seq_length):\n",
    "    xs = []\n",
    "    ys = []\n",
    "    for i in range(len(data) - seq_length):\n",
    "        x = data[i:i+seq_length]\n",
    "        y = data[i+seq_length, 0]  # Predicting the 'Open' price\n",
    "        xs.append(x)\n",
    "        ys.append(y)\n",
    "    return np.array(xs), np.array(ys)\n",
    "\n",
    "X, y = create_sequences(scaled_features, SEQ_LENGTH)\n",
    "\n",
    "# Split the data into training and test sets\n",
    "x_train, x_test, y_train, y_test = train_test_split(X, y, test_size=0.2, shuffle=False)"
   ]
  },
  {
   "cell_type": "code",
   "execution_count": 4,
   "id": "6875a359-b6a7-403f-9671-95b555c91d0d",
   "metadata": {},
   "outputs": [
    {
     "name": "stdout",
     "output_type": "stream",
     "text": [
      "WARNING:tensorflow:From C:\\Users\\Hamed\\AppData\\Local\\Programs\\Python\\Python39\\lib\\site-packages\\keras\\src\\backend.py:873: The name tf.get_default_graph is deprecated. Please use tf.compat.v1.get_default_graph instead.\n",
      "\n",
      "WARNING:tensorflow:From C:\\Users\\Hamed\\AppData\\Local\\Programs\\Python\\Python39\\lib\\site-packages\\keras\\src\\optimizers\\__init__.py:309: The name tf.train.Optimizer is deprecated. Please use tf.compat.v1.train.Optimizer instead.\n",
      "\n",
      "Epoch 1/100\n",
      "WARNING:tensorflow:From C:\\Users\\Hamed\\AppData\\Local\\Programs\\Python\\Python39\\lib\\site-packages\\keras\\src\\utils\\tf_utils.py:492: The name tf.ragged.RaggedTensorValue is deprecated. Please use tf.compat.v1.ragged.RaggedTensorValue instead.\n",
      "\n",
      "WARNING:tensorflow:From C:\\Users\\Hamed\\AppData\\Local\\Programs\\Python\\Python39\\lib\\site-packages\\keras\\src\\engine\\base_layer_utils.py:384: The name tf.executing_eagerly_outside_functions is deprecated. Please use tf.compat.v1.executing_eagerly_outside_functions instead.\n",
      "\n",
      "11/11 [==============================] - 15s 619ms/step - loss: 0.0464 - mae: 0.1629 - val_loss: 0.0025 - val_mae: 0.0407\n",
      "Epoch 2/100\n"
     ]
    },
    {
     "name": "stderr",
     "output_type": "stream",
     "text": [
      "C:\\Users\\Hamed\\AppData\\Local\\Programs\\Python\\Python39\\lib\\site-packages\\keras\\src\\engine\\training.py:3103: UserWarning: You are saving your model as an HDF5 file via `model.save()`. This file format is considered legacy. We recommend using instead the native Keras format, e.g. `model.save('my_model.keras')`.\n",
      "  saving_api.save_model(\n"
     ]
    },
    {
     "name": "stdout",
     "output_type": "stream",
     "text": [
      "11/11 [==============================] - 5s 419ms/step - loss: 0.0139 - mae: 0.0918 - val_loss: 0.0014 - val_mae: 0.0300\n",
      "Epoch 3/100\n",
      "11/11 [==============================] - 4s 405ms/step - loss: 0.0117 - mae: 0.0837 - val_loss: 0.0041 - val_mae: 0.0586\n",
      "Epoch 4/100\n",
      "11/11 [==============================] - 4s 405ms/step - loss: 0.0095 - mae: 0.0731 - val_loss: 0.0031 - val_mae: 0.0502\n",
      "Epoch 5/100\n",
      "11/11 [==============================] - 4s 394ms/step - loss: 0.0088 - mae: 0.0698 - val_loss: 0.0016 - val_mae: 0.0347\n",
      "Epoch 6/100\n",
      "11/11 [==============================] - 4s 399ms/step - loss: 0.0075 - mae: 0.0650 - val_loss: 8.8056e-04 - val_mae: 0.0218\n",
      "Epoch 7/100\n",
      "11/11 [==============================] - 4s 401ms/step - loss: 0.0079 - mae: 0.0670 - val_loss: 7.8791e-04 - val_mae: 0.0194\n",
      "Epoch 8/100\n",
      "11/11 [==============================] - 4s 390ms/step - loss: 0.0076 - mae: 0.0647 - val_loss: 0.0010 - val_mae: 0.0228\n",
      "Epoch 9/100\n",
      "11/11 [==============================] - 4s 397ms/step - loss: 0.0073 - mae: 0.0636 - val_loss: 0.0025 - val_mae: 0.0440\n",
      "Epoch 10/100\n",
      "11/11 [==============================] - 4s 400ms/step - loss: 0.0055 - mae: 0.0560 - val_loss: 0.0025 - val_mae: 0.0446\n",
      "Epoch 11/100\n",
      "11/11 [==============================] - 4s 400ms/step - loss: 0.0053 - mae: 0.0548 - val_loss: 0.0037 - val_mae: 0.0543\n",
      "Epoch 12/100\n",
      "11/11 [==============================] - 4s 405ms/step - loss: 0.0058 - mae: 0.0574 - val_loss: 0.0014 - val_mae: 0.0300\n",
      "Epoch 13/100\n",
      "11/11 [==============================] - 5s 407ms/step - loss: 0.0060 - mae: 0.0592 - val_loss: 0.0025 - val_mae: 0.0434\n",
      "Epoch 14/100\n",
      "11/11 [==============================] - 4s 397ms/step - loss: 0.0059 - mae: 0.0583 - val_loss: 0.0029 - val_mae: 0.0475\n",
      "Epoch 15/100\n",
      "11/11 [==============================] - 4s 401ms/step - loss: 0.0057 - mae: 0.0566 - val_loss: 0.0015 - val_mae: 0.0326\n",
      "Epoch 16/100\n",
      "11/11 [==============================] - 4s 403ms/step - loss: 0.0046 - mae: 0.0514 - val_loss: 0.0011 - val_mae: 0.0244\n",
      "Epoch 17/100\n",
      "11/11 [==============================] - 5s 410ms/step - loss: 0.0059 - mae: 0.0573 - val_loss: 8.5486e-04 - val_mae: 0.0209\n"
     ]
    }
   ],
   "source": [
    "# Define the LSTM model\n",
    "model = Sequential()\n",
    "model.add(LSTM(units=100, activation='tanh', return_sequences=True, input_shape=(x_train.shape[1], x_train.shape[2])))\n",
    "model.add(Dropout(0.3))\n",
    "model.add(LSTM(units=100, activation='tanh', return_sequences=True))\n",
    "model.add(Dropout(0.3))\n",
    "model.add(LSTM(units=100, activation='tanh'))\n",
    "model.add(Dropout(0.3))\n",
    "model.add(Dense(units=50, activation='relu'))\n",
    "model.add(Dropout(0.3))\n",
    "model.add(Dense(units=1))\n",
    "\n",
    "# Compile the model\n",
    "model.compile(optimizer='adam', loss='mse', metrics=['mae'])\n",
    "\n",
    "# Train the model\n",
    "history = model.fit(x_train, y_train, epochs=100, batch_size=64, validation_split=0.2, callbacks=[\n",
    "    tf.keras.callbacks.EarlyStopping(monitor='val_loss', patience=10),\n",
    "    tf.keras.callbacks.ModelCheckpoint('best_model.h5', monitor='val_loss', save_best_only=True)\n",
    "])"
   ]
  },
  {
   "cell_type": "code",
   "execution_count": 5,
   "id": "cb5d540d-5376-4d36-937d-67aff4308b21",
   "metadata": {},
   "outputs": [
    {
     "name": "stdout",
     "output_type": "stream",
     "text": [
      "1/1 [==============================] - 1s 1s/step\n",
      "Predicted Open Price for July 17, 2024: 456.3116942739923\n"
     ]
    }
   ],
   "source": [
    "# Prepare the last sequence for prediction (assuming you have up-to-date data)\n",
    "last_sequence = scaled_features[-SEQ_LENGTH:]\n",
    "last_sequence = np.expand_dims(last_sequence, axis=0)\n",
    "\n",
    "# Load the best model and make predictions\n",
    "model.load_weights('best_model.h5')\n",
    "predicted_open_price = model.predict(last_sequence)\n",
    "\n",
    "# Inverse transform the prediction to get the actual price\n",
    "predicted_open_price = scaler.inverse_transform(np.concatenate([predicted_open_price, np.zeros((predicted_open_price.shape[0], scaled_features.shape[1] - 1))], axis=1))[:, 0]\n",
    "\n",
    "print(f\"Predicted Open Price for July 17, 2024: {predicted_open_price[0]}\")"
   ]
  },
  {
   "cell_type": "code",
   "execution_count": null,
   "id": "eb219a09-acd4-4425-b924-b78880af0a97",
   "metadata": {},
   "outputs": [],
   "source": []
  }
 ],
 "metadata": {
  "kernelspec": {
   "display_name": "Python 3",
   "language": "python",
   "name": "python3"
  },
  "language_info": {
   "codemirror_mode": {
    "name": "ipython",
    "version": 3
   },
   "file_extension": ".py",
   "mimetype": "text/x-python",
   "name": "python",
   "nbconvert_exporter": "python",
   "pygments_lexer": "ipython3",
   "version": "3.9.1"
  }
 },
 "nbformat": 4,
 "nbformat_minor": 5
}
