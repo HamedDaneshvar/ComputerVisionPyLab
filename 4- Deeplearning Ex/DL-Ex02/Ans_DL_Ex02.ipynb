{
 "cells": [
  {
   "cell_type": "code",
   "execution_count": 1,
   "id": "07976b8a",
   "metadata": {},
   "outputs": [
    {
     "name": "stdout",
     "output_type": "stream",
     "text": [
      "WARNING:tensorflow:From C:\\Users\\Hamed\\AppData\\Local\\Programs\\Python\\Python39\\lib\\site-packages\\keras\\src\\losses.py:2976: The name tf.losses.sparse_softmax_cross_entropy is deprecated. Please use tf.compat.v1.losses.sparse_softmax_cross_entropy instead.\n",
      "\n"
     ]
    }
   ],
   "source": [
    "import cv2\n",
    "import numpy as np\n",
    "import keras\n",
    "from keras.datasets import mnist\n",
    "from keras.models import Sequential, load_model\n",
    "from keras.layers import Dense\n",
    "import matplotlib.pyplot as plt"
   ]
  },
  {
   "cell_type": "code",
   "execution_count": 2,
   "id": "5af47690",
   "metadata": {},
   "outputs": [],
   "source": [
    "# Load\n",
    "(train_images, train_labels), (test_images, test_labels) = mnist.load_data()"
   ]
  },
  {
   "cell_type": "code",
   "execution_count": 3,
   "id": "f513a35c",
   "metadata": {},
   "outputs": [],
   "source": [
    "train_images = train_images.reshape(60000, 784)\n",
    "test_images = test_images.reshape(10000, 784)"
   ]
  },
  {
   "cell_type": "code",
   "execution_count": 4,
   "id": "8dde24d1",
   "metadata": {},
   "outputs": [],
   "source": [
    "train_images = train_images.astype('float32')/255.0\n",
    "test_images = test_images.astype('float32')/255.0"
   ]
  },
  {
   "cell_type": "code",
   "execution_count": 5,
   "id": "6ff02743",
   "metadata": {},
   "outputs": [],
   "source": [
    "train_labels = keras.utils.to_categorical(train_labels)\n",
    "test_labels = keras.utils.to_categorical(test_labels)"
   ]
  },
  {
   "cell_type": "code",
   "execution_count": 6,
   "id": "91d82153",
   "metadata": {},
   "outputs": [
    {
     "name": "stdout",
     "output_type": "stream",
     "text": [
      "WARNING:tensorflow:From C:\\Users\\Hamed\\AppData\\Local\\Programs\\Python\\Python39\\lib\\site-packages\\keras\\src\\backend.py:873: The name tf.get_default_graph is deprecated. Please use tf.compat.v1.get_default_graph instead.\n",
      "\n"
     ]
    }
   ],
   "source": [
    "# Model\n",
    "model = Sequential()\n",
    "model.add(Dense(784, activation='relu'))\n",
    "model.add(Dense(256, activation='relu'))\n",
    "model.add(Dense(128, activation='relu'))\n",
    "model.add(Dense(64, activation='relu'))\n",
    "model.add(Dense(10, activation='softmax'))"
   ]
  },
  {
   "cell_type": "code",
   "execution_count": 7,
   "id": "fa4985f5",
   "metadata": {},
   "outputs": [
    {
     "name": "stdout",
     "output_type": "stream",
     "text": [
      "WARNING:tensorflow:From C:\\Users\\Hamed\\AppData\\Local\\Programs\\Python\\Python39\\lib\\site-packages\\keras\\src\\optimizers\\__init__.py:309: The name tf.train.Optimizer is deprecated. Please use tf.compat.v1.train.Optimizer instead.\n",
      "\n"
     ]
    }
   ],
   "source": [
    "model.compile(optimizer='adam', loss='categorical_crossentropy', metrics=['accuracy'])"
   ]
  },
  {
   "cell_type": "code",
   "execution_count": 8,
   "id": "0fc789dc",
   "metadata": {},
   "outputs": [
    {
     "name": "stdout",
     "output_type": "stream",
     "text": [
      "Epoch 1/20\n",
      "WARNING:tensorflow:From C:\\Users\\Hamed\\AppData\\Local\\Programs\\Python\\Python39\\lib\\site-packages\\keras\\src\\utils\\tf_utils.py:492: The name tf.ragged.RaggedTensorValue is deprecated. Please use tf.compat.v1.ragged.RaggedTensorValue instead.\n",
      "\n",
      "WARNING:tensorflow:From C:\\Users\\Hamed\\AppData\\Local\\Programs\\Python\\Python39\\lib\\site-packages\\keras\\src\\engine\\base_layer_utils.py:384: The name tf.executing_eagerly_outside_functions is deprecated. Please use tf.compat.v1.executing_eagerly_outside_functions instead.\n",
      "\n",
      "469/469 [==============================] - 9s 16ms/step - loss: 0.2286 - accuracy: 0.9329\n",
      "Epoch 2/20\n",
      "469/469 [==============================] - 10s 21ms/step - loss: 0.0861 - accuracy: 0.9735\n",
      "Epoch 3/20\n",
      "469/469 [==============================] - 12s 26ms/step - loss: 0.0556 - accuracy: 0.9819\n",
      "Epoch 4/20\n",
      "469/469 [==============================] - 10s 21ms/step - loss: 0.0407 - accuracy: 0.9875\n",
      "Epoch 5/20\n",
      "469/469 [==============================] - 9s 18ms/step - loss: 0.0331 - accuracy: 0.9891\n",
      "Epoch 6/20\n",
      "469/469 [==============================] - 8s 18ms/step - loss: 0.0276 - accuracy: 0.9913\n",
      "Epoch 7/20\n",
      "469/469 [==============================] - 9s 18ms/step - loss: 0.0241 - accuracy: 0.9924\n",
      "Epoch 8/20\n",
      "469/469 [==============================] - 7s 15ms/step - loss: 0.0245 - accuracy: 0.9923\n",
      "Epoch 9/20\n",
      "469/469 [==============================] - 7s 16ms/step - loss: 0.0203 - accuracy: 0.9934\n",
      "Epoch 10/20\n",
      "469/469 [==============================] - 9s 19ms/step - loss: 0.0155 - accuracy: 0.9950\n",
      "Epoch 11/20\n",
      "469/469 [==============================] - 7s 15ms/step - loss: 0.0148 - accuracy: 0.9950\n",
      "Epoch 12/20\n",
      "469/469 [==============================] - 7s 15ms/step - loss: 0.0134 - accuracy: 0.9958\n",
      "Epoch 13/20\n",
      "469/469 [==============================] - 8s 16ms/step - loss: 0.0115 - accuracy: 0.9966\n",
      "Epoch 14/20\n",
      "469/469 [==============================] - 10s 22ms/step - loss: 0.0140 - accuracy: 0.9959\n",
      "Epoch 15/20\n",
      "469/469 [==============================] - 8s 16ms/step - loss: 0.0106 - accuracy: 0.9968\n",
      "Epoch 16/20\n",
      "469/469 [==============================] - 8s 18ms/step - loss: 0.0115 - accuracy: 0.9965\n",
      "Epoch 17/20\n",
      "469/469 [==============================] - 9s 19ms/step - loss: 0.0129 - accuracy: 0.9961\n",
      "Epoch 18/20\n",
      "469/469 [==============================] - 7s 15ms/step - loss: 0.0060 - accuracy: 0.9982\n",
      "Epoch 19/20\n",
      "469/469 [==============================] - 7s 15ms/step - loss: 0.0087 - accuracy: 0.9977\n",
      "Epoch 20/20\n",
      "469/469 [==============================] - 7s 14ms/step - loss: 0.0121 - accuracy: 0.9963\n"
     ]
    },
    {
     "data": {
      "text/plain": [
       "<keras.src.callbacks.History at 0x17d060045b0>"
      ]
     },
     "execution_count": 8,
     "metadata": {},
     "output_type": "execute_result"
    }
   ],
   "source": [
    "#Train\n",
    "model.fit(train_images, train_labels, epochs=20, batch_size=128)"
   ]
  },
  {
   "cell_type": "code",
   "execution_count": 9,
   "id": "9bb062dc",
   "metadata": {},
   "outputs": [
    {
     "name": "stdout",
     "output_type": "stream",
     "text": [
      "Model: \"sequential\"\n",
      "_________________________________________________________________\n",
      " Layer (type)                Output Shape              Param #   \n",
      "=================================================================\n",
      " dense (Dense)               (None, 784)               615440    \n",
      "                                                                 \n",
      " dense_1 (Dense)             (None, 256)               200960    \n",
      "                                                                 \n",
      " dense_2 (Dense)             (None, 128)               32896     \n",
      "                                                                 \n",
      " dense_3 (Dense)             (None, 64)                8256      \n",
      "                                                                 \n",
      " dense_4 (Dense)             (None, 10)                650       \n",
      "                                                                 \n",
      "=================================================================\n",
      "Total params: 858202 (3.27 MB)\n",
      "Trainable params: 858202 (3.27 MB)\n",
      "Non-trainable params: 0 (0.00 Byte)\n",
      "_________________________________________________________________\n"
     ]
    }
   ],
   "source": [
    "model.summary()"
   ]
  },
  {
   "cell_type": "code",
   "execution_count": 10,
   "id": "08c36ebf",
   "metadata": {},
   "outputs": [
    {
     "name": "stdout",
     "output_type": "stream",
     "text": [
      "313/313 [==============================] - 1s 3ms/step - loss: 0.0732 - accuracy: 0.9834\n"
     ]
    }
   ],
   "source": [
    "# evaluation\n",
    "test_loss, test_acc = model.evaluate(test_images, test_labels)"
   ]
  },
  {
   "cell_type": "code",
   "execution_count": 11,
   "id": "a963d03b-48da-472f-9150-817d338da3f2",
   "metadata": {},
   "outputs": [],
   "source": [
    "# save model\n",
    "# model.save('mnist.keras')\n",
    "\n",
    "# The above line has been commented because by running the same model for several times, different predictions have been made,\n",
    "# that's why when the model has predicted correctly, we have saved the model once. Please use the saved model"
   ]
  },
  {
   "cell_type": "code",
   "execution_count": 12,
   "id": "050621f5-d54b-4aa6-9fa6-3f7c5d50f9db",
   "metadata": {},
   "outputs": [],
   "source": [
    "# load the model and predict\n",
    "model = load_model('mnist.keras')"
   ]
  },
  {
   "cell_type": "code",
   "execution_count": 13,
   "id": "e8cd1f2f",
   "metadata": {},
   "outputs": [],
   "source": [
    "test_img = cv2.imread('seven.png', cv2.IMREAD_GRAYSCALE)"
   ]
  },
  {
   "cell_type": "code",
   "execution_count": 14,
   "id": "05cf6f8f",
   "metadata": {},
   "outputs": [],
   "source": [
    "test_img_resized = cv2.resize(test_img, (28, 28))\n",
    "test_img_flatten = test_img_resized.reshape(1, 784)\n",
    "test_img_normalized = test_img_flatten.astype('float32')/255."
   ]
  },
  {
   "cell_type": "code",
   "execution_count": 15,
   "id": "ebf9440f",
   "metadata": {},
   "outputs": [
    {
     "name": "stdout",
     "output_type": "stream",
     "text": [
      "1/1 [==============================] - 0s 140ms/step\n",
      "model predicted:  7\n"
     ]
    },
    {
     "data": {
      "image/png": "[encoded data removed]",
      "text/plain": [
       "<Figure size 432x288 with 1 Axes>"
      ]
     },
     "metadata": {
      "needs_background": "light"
     },
     "output_type": "display_data"
    }
   ],
   "source": [
    "pred = model.predict(test_img_normalized)\n",
    "prediced_label = np.argmax(pred)\n",
    "plt.imshow(test_img, cmap='gray')\n",
    "print(\"model predicted: \", prediced_label)"
   ]
  },
  {
   "cell_type": "code",
   "execution_count": null,
   "id": "66bcb59d",
   "metadata": {},
   "outputs": [],
   "source": []
  }
 ],
 "metadata": {
  "kernelspec": {
   "display_name": "Python 3",
   "language": "python",
   "name": "python3"
  },
  "language_info": {
   "codemirror_mode": {
    "name": "ipython",
    "version": 3
   },
   "file_extension": ".py",
   "mimetype": "text/x-python",
   "name": "python",
   "nbconvert_exporter": "python",
   "pygments_lexer": "ipython3",
   "version": "3.9.1"
  }
 },
 "nbformat": 4,
 "nbformat_minor": 5
}
