{
  "cells": [
    {
      "cell_type": "markdown",
      "id": "60aa5e7a-73ee-4cc5-8ea8-856ad7f66b55",
      "metadata": {
        "id": "60aa5e7a-73ee-4cc5-8ea8-856ad7f66b55"
      },
      "source": [
        "## Exercise 1"
      ]
    },
    {
      "cell_type": "code",
      "execution_count": 11,
      "id": "c6353387-4da1-4552-bd4d-36bea3dcf3f2",
      "metadata": {
        "id": "c6353387-4da1-4552-bd4d-36bea3dcf3f2"
      },
      "outputs": [],
      "source": [
        "import numpy as np\n",
        "from keras.models import Sequential\n",
        "from keras import layers"
      ]
    },
    {
      "cell_type": "code",
      "execution_count": 12,
      "id": "2c858c8f-3670-4ace-a1d2-5bf57d8ec55d",
      "metadata": {
        "id": "2c858c8f-3670-4ace-a1d2-5bf57d8ec55d"
      },
      "outputs": [],
      "source": [
        "image = np.array([[1, 5, 8, 4, 9],\n",
        "                  [8, 9, 3, 2, 7],\n",
        "                  [4, 5, 2, 1, 8],\n",
        "                  [1, 0, 0, 1, 5],\n",
        "                  [0, 0, 0, 0, 0]], np.uint8)\n",
        "# image = image.astype('float32')/255.0"
      ]
    },
    {
      "cell_type": "code",
      "execution_count": 13,
      "id": "15ccd92d-83dc-47b2-8cf2-54a81076b62e",
      "metadata": {
        "id": "15ccd92d-83dc-47b2-8cf2-54a81076b62e"
      },
      "outputs": [],
      "source": [
        "image = image.reshape(1, 5, 5, 1)"
      ]
    },
    {
      "cell_type": "code",
      "execution_count": 14,
      "id": "20ffa4bf-7a38-487d-bd37-813975a5130e",
      "metadata": {
        "id": "20ffa4bf-7a38-487d-bd37-813975a5130e"
      },
      "outputs": [],
      "source": [
        "model = Sequential()\n",
        "\n",
        "#Feature Extraction part\n",
        "model.add(layers.Conv2D(2, kernel_size=(3,3), padding='same', strides=(1, 1), input_shape=(5, 5, 1)))\n",
        "model.add(layers.Conv2D(3, kernel_size=(1,1), padding='same', strides=(1, 1)))\n",
        "model.add(layers.MaxPool2D(pool_size=(2, 2), strides=(1, 1)))"
      ]
    },
    {
      "cell_type": "code",
      "execution_count": 15,
      "id": "c2ab17b6-9414-42c7-8f96-cde390355d4f",
      "metadata": {
        "colab": {
          "base_uri": "https://localhost:8080/"
        },
        "id": "c2ab17b6-9414-42c7-8f96-cde390355d4f",
        "outputId": "901ae69c-f775-4fdd-ddde-b9069af15cb3"
      },
      "outputs": [
        {
          "output_type": "stream",
          "name": "stdout",
          "text": [
            "1/1 [==============================] - 0s 128ms/step\n"
          ]
        }
      ],
      "source": [
        "output = model.predict(image)"
      ]
    },
    {
      "cell_type": "code",
      "execution_count": 16,
      "id": "311db561",
      "metadata": {
        "colab": {
          "base_uri": "https://localhost:8080/"
        },
        "id": "311db561",
        "outputId": "6bec0f26-21ed-4ab6-9a78-05856a39ea2b"
      },
      "outputs": [
        {
          "output_type": "execute_result",
          "data": {
            "text/plain": [
              "array([[[[-1.8822384 ,  1.858228  , -5.4505424 ],\n",
              "         [-1.1048703 ,  1.858228  , -3.3624277 ],\n",
              "         [-1.1048703 ,  1.4737636 , -3.3624277 ],\n",
              "         [-0.35761482,  2.720675  , -0.09677386]],\n",
              "\n",
              "        [[-1.8822384 ,  1.858228  , -5.4505424 ],\n",
              "         [-1.1048703 ,  1.9798884 , -3.2270164 ],\n",
              "         [-1.1048703 ,  1.9798884 , -3.2270164 ],\n",
              "         [-1.6680464 ,  2.0966291 , -4.7799125 ]],\n",
              "\n",
              "        [[-0.95506096,  1.6354339 , -3.1782136 ],\n",
              "         [-0.998839  ,  1.9798884 , -3.1782136 ],\n",
              "         [-1.1401569 ,  1.9798884 , -3.2270164 ],\n",
              "         [-1.064878  ,  1.7738178 , -3.4289882 ]],\n",
              "\n",
              "        [[-0.09048179,  0.26532197, -0.35323647],\n",
              "         [-0.10201436,  0.8657208 , -0.3243326 ],\n",
              "         [-0.10201436,  0.8657208 , -0.3243326 ],\n",
              "         [-0.5913048 ,  0.62797856, -1.9748995 ]]]], dtype=float32)"
            ]
          },
          "metadata": {},
          "execution_count": 16
        }
      ],
      "source": [
        "output"
      ]
    },
    {
      "cell_type": "markdown",
      "id": "bdc80845-b0a0-4192-8b9e-a204c2dad7b8",
      "metadata": {
        "id": "bdc80845-b0a0-4192-8b9e-a204c2dad7b8"
      },
      "source": [
        "## Exercise 2"
      ]
    },
    {
      "cell_type": "code",
      "execution_count": 1,
      "id": "fc68aecb-0ffa-4f66-abbc-43bc89776980",
      "metadata": {
        "id": "fc68aecb-0ffa-4f66-abbc-43bc89776980"
      },
      "outputs": [],
      "source": [
        "import numpy as np\n",
        "import tensorflow as tf\n",
        "from tensorflow.keras import layers, models\n",
        "from tensorflow.keras.datasets import cifar10\n",
        "import matplotlib.pyplot as plt\n",
        "\n",
        "#Dataaugmentation\n",
        "from tensorflow.keras.preprocessing.image import ImageDataGenerator\n",
        "\n",
        "#Earlystopping\n",
        "from tensorflow.keras.callbacks import EarlyStopping"
      ]
    },
    {
      "cell_type": "code",
      "execution_count": 2,
      "id": "4dd8e12f",
      "metadata": {
        "colab": {
          "base_uri": "https://localhost:8080/"
        },
        "id": "4dd8e12f",
        "outputId": "9204b654-296e-4929-ce4a-063219d2cdac"
      },
      "outputs": [
        {
          "output_type": "stream",
          "name": "stdout",
          "text": [
            "Downloading data from https://www.cs.toronto.edu/~kriz/cifar-10-python.tar.gz\n",
            "170498071/170498071 [==============================] - 4s 0us/step\n"
          ]
        }
      ],
      "source": [
        "(x_train, y_train), (x_test, y_test) = cifar10.load_data()"
      ]
    },
    {
      "cell_type": "code",
      "execution_count": 3,
      "id": "ea4dd0a3-bd58-47ad-a1cf-08f6bdd9980c",
      "metadata": {
        "id": "ea4dd0a3-bd58-47ad-a1cf-08f6bdd9980c"
      },
      "outputs": [],
      "source": [
        "# Scaling\n",
        "x_train = x_train/255.0\n",
        "x_test = x_test/255.0"
      ]
    },
    {
      "cell_type": "code",
      "execution_count": 4,
      "id": "1c76a615-bab2-47ad-aef2-c8bd3351e006",
      "metadata": {
        "id": "1c76a615-bab2-47ad-aef2-c8bd3351e006"
      },
      "outputs": [],
      "source": [
        "x_train = x_train.reshape(x_train.shape[0], 32, 32, 3)\n",
        "x_test = x_test.reshape(x_test.shape[0], 32, 32, 3)"
      ]
    },
    {
      "cell_type": "code",
      "execution_count": 5,
      "id": "174a8a30-7bf4-467f-acf3-9c2e175650fa",
      "metadata": {
        "id": "174a8a30-7bf4-467f-acf3-9c2e175650fa"
      },
      "outputs": [],
      "source": [
        "model = models.Sequential([\n",
        "    layers.Conv2D(32, kernel_size=(3,3), padding='same', activation='relu',strides=(1, 1), input_shape=(32, 32, 3)),\n",
        "    layers.Conv2D(64, kernel_size=(3,3), padding='same', activation='relu',strides=(1, 1)),\n",
        "    layers.MaxPool2D(pool_size=(2, 2)),\n",
        "    layers.Conv2D(128, kernel_size=(3,3), padding='same', activation='relu',strides=(1, 1)),\n",
        "    layers.MaxPool2D(pool_size=(2, 2)),\n",
        "\n",
        "    layers.Flatten(),\n",
        "    layers.Dense(10, activation='softmax'),\n",
        "])"
      ]
    },
    {
      "cell_type": "code",
      "execution_count": 6,
      "id": "5866f735-4816-49df-be6a-0d4a26932ab1",
      "metadata": {
        "id": "5866f735-4816-49df-be6a-0d4a26932ab1"
      },
      "outputs": [],
      "source": [
        "model.compile(optimizer='adam', loss='sparse_categorical_crossentropy', metrics='accuracy')"
      ]
    },
    {
      "cell_type": "code",
      "execution_count": 7,
      "id": "33c74d30-b73a-49b1-9a9a-dc82a239fb2a",
      "metadata": {
        "colab": {
          "base_uri": "https://localhost:8080/"
        },
        "id": "33c74d30-b73a-49b1-9a9a-dc82a239fb2a",
        "outputId": "0bac303b-4c76-4c23-f1e8-87fb9a62b476"
      },
      "outputs": [
        {
          "output_type": "stream",
          "name": "stdout",
          "text": [
            "Epoch 1/5\n",
            "1407/1407 [==============================] - 274s 194ms/step - loss: 1.3027 - accuracy: 0.5413 - val_loss: 1.0061 - val_accuracy: 0.6530\n",
            "Epoch 2/5\n",
            "1407/1407 [==============================] - 271s 192ms/step - loss: 0.8820 - accuracy: 0.6948 - val_loss: 0.8464 - val_accuracy: 0.7116\n",
            "Epoch 3/5\n",
            "1407/1407 [==============================] - 271s 193ms/step - loss: 0.7182 - accuracy: 0.7532 - val_loss: 0.8032 - val_accuracy: 0.7306\n",
            "Epoch 4/5\n",
            "1407/1407 [==============================] - 269s 191ms/step - loss: 0.6021 - accuracy: 0.7935 - val_loss: 0.7716 - val_accuracy: 0.7442\n",
            "Epoch 5/5\n",
            "1407/1407 [==============================] - 276s 196ms/step - loss: 0.4993 - accuracy: 0.8288 - val_loss: 0.7718 - val_accuracy: 0.7488\n"
          ]
        }
      ],
      "source": [
        "hist = model.fit(x_train, y_train, batch_size=32, epochs=5, validation_split=0.1)"
      ]
    },
    {
      "cell_type": "code",
      "execution_count": 9,
      "id": "f02cb85b-69ec-419b-be83-69df4b358e75",
      "metadata": {
        "colab": {
          "base_uri": "https://localhost:8080/",
          "height": 472
        },
        "id": "f02cb85b-69ec-419b-be83-69df4b358e75",
        "outputId": "39b96437-f953-4dae-c957-83796737a7d5"
      },
      "outputs": [
        {
          "output_type": "display_data",
          "data": {
            "text/plain": [
              "<Figure size 640x480 with 1 Axes>"
            ],
            "image/png": "[encoded data removed]"
          },
          "metadata": {}
        }
      ],
      "source": [
        "plt.plot(hist.history['loss'])\n",
        "plt.plot(hist.history['val_loss'])\n",
        "plt.title('val_loss vs loss')\n",
        "plt.ylabel('loss')\n",
        "plt.xlabel('epochs')\n",
        "plt.legend(['train', 'test'])\n",
        "plt.show()"
      ]
    },
    {
      "cell_type": "code",
      "source": [
        "#evaluation\n",
        "test_loss, test_acc = model.evaluate(x_test, y_test)"
      ],
      "metadata": {
        "colab": {
          "base_uri": "https://localhost:8080/"
        },
        "id": "J9kwaWKttEfA",
        "outputId": "6c67e909-f2b4-41ea-8061-aad0dbb4c0bc"
      },
      "id": "J9kwaWKttEfA",
      "execution_count": 8,
      "outputs": [
        {
          "output_type": "stream",
          "name": "stdout",
          "text": [
            "313/313 [==============================] - 17s 53ms/step - loss: 0.8051 - accuracy: 0.7376\n"
          ]
        }
      ]
    },
    {
      "cell_type": "code",
      "execution_count": null,
      "id": "caba497e-a116-4c44-bd79-f7efe9cd20aa",
      "metadata": {
        "id": "caba497e-a116-4c44-bd79-f7efe9cd20aa"
      },
      "outputs": [],
      "source": [
        "test_loss, test_acc = model.evaluate(x_test, y_test)\n",
        "print('test_loss: ', test_loss)\n",
        "print('test_acc: ', test_acc)"
      ]
    },
    {
      "cell_type": "code",
      "execution_count": 10,
      "id": "3e770742-6e97-485c-bfe3-027ed460d04f",
      "metadata": {
        "colab": {
          "base_uri": "https://localhost:8080/",
          "height": 472
        },
        "id": "3e770742-6e97-485c-bfe3-027ed460d04f",
        "outputId": "60b97c44-17d5-4346-9ab2-1ad54f249718"
      },
      "outputs": [
        {
          "output_type": "display_data",
          "data": {
            "text/plain": [
              "<Figure size 640x480 with 1 Axes>"
            ],
            "image/png": "[encoded data removed]"
          },
          "metadata": {}
        }
      ],
      "source": [
        "plt.plot(hist.history['accuracy'])\n",
        "plt.plot(hist.history['val_accuracy'])\n",
        "plt.title('val_acc vs acc')\n",
        "plt.ylabel('accuracy')\n",
        "plt.xlabel('epochs')\n",
        "plt.legend(['train', 'test'])\n",
        "plt.show()"
      ]
    },
    {
      "cell_type": "code",
      "source": [
        "# The accuracy of the model with CNN has increased a lot, and even the accuracy of the model during training, which was 82% using the CNN method with\n",
        "# five epochs, and 73% during testing, which is much better accuracy than Dense networks. We also achieved a lower loss value with CNN."
      ],
      "metadata": {
        "id": "RIHplgfHt0J0"
      },
      "id": "RIHplgfHt0J0",
      "execution_count": 17,
      "outputs": []
    },
    {
      "cell_type": "code",
      "source": [],
      "metadata": {
        "id": "alx5c5XNwHtZ"
      },
      "id": "alx5c5XNwHtZ",
      "execution_count": null,
      "outputs": []
    }
  ],
  "metadata": {
    "kernelspec": {
      "display_name": "Python 3",
      "language": "python",
      "name": "python3"
    },
    "language_info": {
      "codemirror_mode": {
        "name": "ipython",
        "version": 3
      },
      "file_extension": ".py",
      "mimetype": "text/x-python",
      "name": "python",
      "nbconvert_exporter": "python",
      "pygments_lexer": "ipython3",
      "version": "3.9.1"
    },
    "colab": {
      "provenance": []
    }
  },
  "nbformat": 4,
  "nbformat_minor": 5
}