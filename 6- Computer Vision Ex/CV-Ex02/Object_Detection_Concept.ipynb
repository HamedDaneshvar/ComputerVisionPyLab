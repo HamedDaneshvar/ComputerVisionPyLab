{
 "cells": [
  {
   "cell_type": "markdown",
   "id": "60aa5e7a-73ee-4cc5-8ea8-856ad7f66b55",
   "metadata": {},
   "source": [
    "## Exercise 1"
   ]
  },
  {
   "cell_type": "code",
   "execution_count": 2,
   "id": "c6353387-4da1-4552-bd4d-36bea3dcf3f2",
   "metadata": {},
   "outputs": [
    {
     "data": {
      "image/png": "[encoded data removed]",
      "text/plain": [
       "<Figure size 432x288 with 1 Axes>"
      ]
     },
     "metadata": {
      "needs_background": "light"
     },
     "output_type": "display_data"
    }
   ],
   "source": [
    "import matplotlib.pyplot as plt\n",
    "import matplotlib.patches as patches\n",
    "\n",
    "def calculate_iou(box1, box2):\n",
    "    # Get the coordinates of the intersection rectangle\n",
    "    x1 = max(box1[0], box2[0])\n",
    "    y1 = max(box1[1], box2[1])\n",
    "    x2 = min(box1[2], box2[2])\n",
    "    y2 = min(box1[3], box2[3])\n",
    "    \n",
    "    # Calculate the area of intersection rectangle\n",
    "    intersection_area = max(0, x2 - x1 + 1) * max(0, y2 - y1 + 1)\n",
    "    \n",
    "    # Calculate the area of both bounding boxes\n",
    "    box1_area = (box1[2] - box1[0] + 1) * (box1[3] - box1[1] + 1)\n",
    "    box2_area = (box2[2] - box2[0] + 1) * (box2[3] - box2[1] + 1)\n",
    "    \n",
    "    # Calculate the Union area\n",
    "    union_area = box1_area + box2_area - intersection_area\n",
    "    \n",
    "    # Calculate IOU\n",
    "    iou = intersection_area / union_area\n",
    "    return iou, (x1, y1, x2, y2)\n",
    "\n",
    "# Bounding Box 1 (Predicted)\n",
    "box1 = (2, 2, 6, 6)\n",
    "\n",
    "# Bounding Box 2 (Ground Truth)\n",
    "box2 = (4, 4, 8, 8)\n",
    "\n",
    "iou, intersection_coords = calculate_iou(box1, box2)\n",
    "\n",
    "# Plot the bounding boxes and intersection\n",
    "fig, ax = plt.subplots()\n",
    "ax.add_patch(patches.Rectangle((box1[0], box1[1]), box1[2]-box1[0], box1[3]-box1[1], fill=False, edgecolor='r'))\n",
    "ax.add_patch(patches.Rectangle((box2[0], box2[1]), box2[2]-box2[0], box2[3]-box2[1], fill=False, edgecolor='g'))\n",
    "ax.add_patch(patches.Rectangle((intersection_coords[0], intersection_coords[1]), intersection_coords[2]-intersection_coords[0], intersection_coords[3]-intersection_coords[1], fill=False, edgecolor='b'))\n",
    "ax.set_xlim(0, 10)\n",
    "ax.set_ylim(0, 10)\n",
    "ax.set_aspect('equal', adjustable='box')\n",
    "plt.title(f'Intersection over Union (IOU): {iou:.2f}')\n",
    "plt.show()"
   ]
  },
  {
   "cell_type": "markdown",
   "id": "bdc80845-b0a0-4192-8b9e-a204c2dad7b8",
   "metadata": {},
   "source": [
    "## Exercise 2"
   ]
  },
  {
   "cell_type": "markdown",
   "id": "231e8424-45e7-491f-b009-4024e7f24a45",
   "metadata": {},
   "source": [
    "## Mapping State"
   ]
  },
  {
   "cell_type": "code",
   "execution_count": 1,
   "id": "8521c7f5-0be3-4efb-b4fc-e10221d3217e",
   "metadata": {},
   "outputs": [],
   "source": [
    "import matplotlib.pyplot as plt\n",
    "import matplotlib.patches as patches"
   ]
  },
  {
   "cell_type": "code",
   "execution_count": 2,
   "id": "fc68aecb-0ffa-4f66-abbc-43bc89776980",
   "metadata": {},
   "outputs": [],
   "source": [
    "def calculate_iou(box1, box2):\n",
    "    x1 = max(box1[0], box2[0])\n",
    "    y1 = max(box1[1], box2[1])\n",
    "    x2 = min(box1[2], box2[2])\n",
    "    y2 = min(box1[3], box2[3])\n",
    "\n",
    "    intersection_area = max(0, x2 - x1 + 1) * max(0, y2 - y1 + 1)\n",
    "    box1_area = (box1[2] - box1[0] + 1) * (box1[3] - box1[1] + 1)\n",
    "    box2_area = (box2[2] - box2[0] + 1) * (box2[3] - box2[1] + 1)\n",
    "    union_area = box1_area + box2_area - intersection_area\n",
    "\n",
    "    iou = intersection_area / union_area\n",
    "    return iou\n",
    "\n",
    "def evaluate_predictions(predictions, ground_truths, iou_threshold):\n",
    "    true_positives = 0\n",
    "    false_positives = 0\n",
    "    false_negatives = 0\n",
    "\n",
    "    for pred_box, gt_box in zip(predictions, ground_truths):\n",
    "        iou = calculate_iou(pred_box, gt_box)\n",
    "        \n",
    "        if iou >= iou_threshold:\n",
    "            true_positives += 1\n",
    "        else:\n",
    "            false_positives += 1\n",
    "            false_negatives += 1\n",
    "\n",
    "    precision = true_positives / (true_positives + false_positives) if (true_positives + false_positives) > 0 else 0\n",
    "    recall = true_positives / (true_positives + false_negatives) if (true_positives + false_negatives) > 0 else 0\n",
    "\n",
    "    return true_positives, false_positives, false_negatives, precision, recall\n"
   ]
  },
  {
   "cell_type": "code",
   "execution_count": 3,
   "id": "ea4dd0a3-bd58-47ad-a1cf-08f6bdd9980c",
   "metadata": {},
   "outputs": [],
   "source": [
    "def plot_boxes_with_intersection(predictions, ground_truths, iou_threshold):\n",
    "    fig, ax = plt.subplots()\n",
    "\n",
    "    for pred_box, gt_box in zip(predictions, ground_truths):\n",
    "        iou = calculate_iou(pred_box, gt_box)\n",
    "        color = 'r' if iou < iou_threshold else 'g'\n",
    "\n",
    "        # Plot prediction box\n",
    "        ax.add_patch(patches.Rectangle((pred_box[0], pred_box[1]), pred_box[2]-pred_box[0], pred_box[3]-pred_box[1], fill=False, edgecolor='b'))\n",
    "\n",
    "        # Plot ground truth box\n",
    "        ax.add_patch(patches.Rectangle((gt_box[0], gt_box[1]), gt_box[2]-gt_box[0], gt_box[3]-gt_box[1], fill=False, edgecolor='y'))\n",
    "\n",
    "        # Plot intersection box\n",
    "        if iou >= iou_threshold:\n",
    "            x1 = max(pred_box[0], gt_box[0])\n",
    "            y1 = max(pred_box[1], gt_box[1])\n",
    "            x2 = min(pred_box[2], gt_box[2])\n",
    "            y2 = min(pred_box[3], gt_box[3])\n",
    "            ax.add_patch(patches.Rectangle((x1, y1), x2-x1, y2-y1, fill=True, facecolor='g', alpha=0.3))\n",
    "\n",
    "    ax.set_xlim(0, 12)\n",
    "    ax.set_ylim(0, 12)\n",
    "    ax.set_aspect('equal', adjustable='box')\n",
    "    plt.title(f'Bounding Boxes and Intersection (IOU Threshold: {iou_threshold})')\n",
    "    plt.show()\n"
   ]
  },
  {
   "cell_type": "code",
   "execution_count": 4,
   "id": "1c76a615-bab2-47ad-aef2-c8bd3351e006",
   "metadata": {},
   "outputs": [
    {
     "name": "stdout",
     "output_type": "stream",
     "text": [
      "Prediction 1:\n",
      "True Positives: 1\n",
      "False Positives: 0\n",
      "False Negatives: 0\n",
      "Precision: 1.0\n",
      "Recall: 1.0\n",
      "\n",
      "Prediction 2:\n",
      "True Positives: 1\n",
      "False Positives: 0\n",
      "False Negatives: 0\n",
      "Precision: 1.0\n",
      "Recall: 1.0\n",
      "\n",
      "Prediction 3:\n",
      "True Positives: 0\n",
      "False Positives: 1\n",
      "False Negatives: 1\n",
      "Precision: 0.0\n",
      "Recall: 0.0\n"
     ]
    }
   ],
   "source": [
    "# Define the predictions and ground truths\n",
    "predictions = [\n",
    "    (1, 1, 4, 4),\n",
    "    (2, 2, 5, 5),\n",
    "    (7, 7, 9, 9)\n",
    "]\n",
    "\n",
    "ground_truths = [\n",
    "    (1, 1, 3, 3),\n",
    "    (2, 2, 6, 6),\n",
    "    (8, 8, 10, 10)\n",
    "]\n",
    "\n",
    "iou_threshold = 0.5\n",
    "\n",
    "# Evaluate the predictions for each corresponding ground truth\n",
    "tp1, fp1, fn1, precision1, recall1 = evaluate_predictions([predictions[0]], [ground_truths[0]], iou_threshold)\n",
    "tp2, fp2, fn2, precision2, recall2 = evaluate_predictions([predictions[1]], [ground_truths[1]], iou_threshold)\n",
    "tp3, fp3, fn3, precision3, recall3 = evaluate_predictions([predictions[2]], [ground_truths[2]], iou_threshold)\n",
    "\n",
    "print(\"Prediction 1:\")\n",
    "print(f\"True Positives: {tp1}\")\n",
    "print(f\"False Positives: {fp1}\")\n",
    "print(f\"False Negatives: {fn1}\")\n",
    "print(f\"Precision: {precision1}\")\n",
    "print(f\"Recall: {recall1}\")\n",
    "\n",
    "print(\"\\nPrediction 2:\")\n",
    "print(f\"True Positives: {tp2}\")\n",
    "print(f\"False Positives: {fp2}\")\n",
    "print(f\"False Negatives: {fn2}\")\n",
    "print(f\"Precision: {precision2}\")\n",
    "print(f\"Recall: {recall2}\")\n",
    "\n",
    "print(\"\\nPrediction 3:\")\n",
    "print(f\"True Positives: {tp3}\")\n",
    "print(f\"False Positives: {fp3}\")\n",
    "print(f\"False Negatives: {fn3}\")\n",
    "print(f\"Precision: {precision3}\")\n",
    "print(f\"Recall: {recall3}\")"
   ]
  },
  {
   "cell_type": "code",
   "execution_count": 5,
   "id": "174a8a30-7bf4-467f-acf3-9c2e175650fa",
   "metadata": {},
   "outputs": [
    {
     "data": {
      "image/png": "[encoded data removed]",
      "text/plain": [
       "<Figure size 432x288 with 1 Axes>"
      ]
     },
     "metadata": {
      "needs_background": "light"
     },
     "output_type": "display_data"
    }
   ],
   "source": [
    "# Plot the boxes and intersections\n",
    "plot_boxes_with_intersection(predictions, ground_truths, iou_threshold)"
   ]
  },
  {
   "cell_type": "markdown",
   "id": "23fb1091-084f-422d-95dd-fd757c954fa9",
   "metadata": {},
   "source": [
    "## Brute Force State"
   ]
  },
  {
   "cell_type": "code",
   "execution_count": 14,
   "id": "132cb487-862a-4755-bafe-1f5a64cebda8",
   "metadata": {},
   "outputs": [
    {
     "name": "stdout",
     "output_type": "stream",
     "text": [
      "Prediction 1 vs Ground Truth 1 - TP: 1, FP: 0, FN: 0, Precision: 1.0, Recall: 1.0\n",
      "Prediction 1 vs Ground Truth 2 - TP: 0, FP: 1, FN: 1, Precision: 0.0, Recall: 0.0\n",
      "Prediction 1 vs Ground Truth 3 - TP: 0, FP: 1, FN: 1, Precision: 0.0, Recall: 0.0\n",
      "Prediction 2 vs Ground Truth 1 - TP: 0, FP: 1, FN: 1, Precision: 0.0, Recall: 0.0\n",
      "Prediction 2 vs Ground Truth 2 - TP: 1, FP: 0, FN: 0, Precision: 1.0, Recall: 1.0\n",
      "Prediction 2 vs Ground Truth 3 - TP: 0, FP: 1, FN: 1, Precision: 0.0, Recall: 0.0\n",
      "Prediction 3 vs Ground Truth 1 - TP: 0, FP: 1, FN: 1, Precision: 0.0, Recall: 0.0\n",
      "Prediction 3 vs Ground Truth 2 - TP: 0, FP: 1, FN: 1, Precision: 0.0, Recall: 0.0\n",
      "Prediction 3 vs Ground Truth 3 - TP: 0, FP: 1, FN: 1, Precision: 0.0, Recall: 0.0\n"
     ]
    }
   ],
   "source": [
    "def calculate_iou(box1, box2):\n",
    "    x1 = max(box1[0], box2[0])\n",
    "    y1 = max(box1[1], box2[1])\n",
    "    x2 = min(box1[2], box2[2])\n",
    "    y2 = min(box1[3], box2[3])\n",
    "\n",
    "    intersection_area = max(0, x2 - x1 + 1) * max(0, y2 - y1 + 1)\n",
    "    box1_area = (box1[2] - box1[0] + 1) * (box1[3] - box1[1] + 1)\n",
    "    box2_area = (box2[2] - box2[0] + 1) * (box2[3] - box2[1] + 1)\n",
    "    union_area = box1_area + box2_area - intersection_area\n",
    "\n",
    "    iou = intersection_area / union_area\n",
    "    return iou\n",
    "\n",
    "def calculate_tp_fp_fn_precision_recall(predictions, ground_truths, iou_threshold=0.5):\n",
    "    for i, prediction in enumerate(predictions):\n",
    "        for j, ground_truth in enumerate(ground_truths):\n",
    "            tp = 0\n",
    "            fp = 0\n",
    "            fn = 0\n",
    "            iou = calculate_iou(prediction, ground_truth)\n",
    "\n",
    "            if iou >= iou_threshold:\n",
    "                tp += 1\n",
    "            else:\n",
    "                fp += 1\n",
    "                fn += 1\n",
    "\n",
    "            precision = tp / (tp + fp) if (tp + fp) > 0 else 0\n",
    "            recall = tp / (tp + fn) if (tp + fn) > 0 else 0\n",
    "\n",
    "            print(f\"Prediction {i+1} vs Ground Truth {j+1} - TP: {tp}, FP: {fp}, FN: {fn}, Precision: {precision}, Recall: {recall}\")\n",
    "\n",
    "# Define the predictions and ground truths\n",
    "predictions = [\n",
    "    (1, 1, 4, 4),\n",
    "    (2, 2, 5, 5),\n",
    "    (7, 7, 9, 9)\n",
    "]\n",
    "\n",
    "ground_truths = [\n",
    "    (1, 1, 3, 3),\n",
    "    (2, 2, 6, 6),\n",
    "    (8, 8, 10, 10)\n",
    "]\n",
    "\n",
    "iou_threshold = 0.5\n",
    "\n",
    "# calculate TP, FP, FN, Precision and Recall\n",
    "calculate_tp_fp_fn_precision_recall(predictions, ground_truths)"
   ]
  },
  {
   "cell_type": "markdown",
   "id": "1b4cfdbf-61bc-4e89-bb77-2359aed6a85f",
   "metadata": {},
   "source": [
    "### Description for exercise 2\n",
    "When a prediction overlaps significantly with a ground truth (based on the Intersection over Union (IOU) threshold), it is considered a **True Positive**. This indicates that the prediction correctly identifies and aligns with a ground truth object. and If a prediction does not have a significant overlap with any ground truth or if it overlaps with the wrong ground truth, it is categorized as a **False Positive**. This means the prediction incorrectly identifies an object that is not present in the ground truth. and When a ground truth object is not detected or matched by any prediction, it results in a **False Negative**. This indicates that the model failed to detect an object that should have been present.\n",
    "\n",
    "**Precision** is calculated as the ratio of True Positives to the sum of True Positives and False Positives. It measures the accuracy of the positive predictions.\n",
    "*Precision = TP / (TP + FP)*\n",
    "\n",
    "**Recall** is calculated as the ratio of True Positives to the sum of True Positives and False Negatives. It measures the ability of the model to correctly identify all relevant instances.\n",
    "*Recall = TP / (TP + FN)*\n",
    "\n",
    "So by looking at the TP, FP, and FN values for each prediction against every ground truth, we can determine which ground truth each prediction belongs to based on the highest matching IoU and the associated True Positive count. A higher TP value for a specific ground truth indicates that the prediction is most likely corresponding to that particular ground truth object. False Positive and False Negative counts help in identifying incorrect matches and missed detections, respectively, aiding in refining the association between predictions and ground truths.\n",
    "\n",
    "and here are right predictions and ground truth\n",
    "<br>*Prediction 1 vs Ground Truth 1*\n",
    "<br>*Prediction 2 vs Ground Truth 2*"
   ]
  },
  {
   "cell_type": "markdown",
   "id": "6edd4001-bb00-416f-8969-fc6258090a6b",
   "metadata": {},
   "source": [
    "## Exercise 3"
   ]
  },
  {
   "cell_type": "code",
   "execution_count": 15,
   "id": "33c74d30-b73a-49b1-9a9a-dc82a239fb2a",
   "metadata": {},
   "outputs": [],
   "source": [
    "def calculate_iou(box1, box2):\n",
    "    x1 = max(box1[0], box2[0])\n",
    "    y1 = max(box1[1], box2[1])\n",
    "    x2 = min(box1[2], box2[2])\n",
    "    y2 = min(box1[3], box2[3])\n",
    "\n",
    "    intersection = max(0, x2 - x1) * max(0, y2 - y1)\n",
    "    area_box1 = (box1[2] - box1[0]) * (box1[3] - box1[1])\n",
    "    area_box2 = (box2[2] - box2[0]) * (box2[3] - box2[1])\n",
    "    union = area_box1 + area_box2 - intersection\n",
    "\n",
    "    return intersection / union\n",
    "\n",
    "def calculate_precision_recall(predictions, ground_truths, iou_threshold):\n",
    "    tp = 0\n",
    "    fp = 0\n",
    "    fn = len(ground_truths)\n",
    "\n",
    "    for prediction in predictions:\n",
    "        iou_scores = [calculate_iou(prediction['bbox'], gt) for gt in ground_truths]\n",
    "        max_iou = max(iou_scores) if iou_scores else 0\n",
    "\n",
    "        if max_iou >= iou_threshold:\n",
    "            tp += 1\n",
    "            fn -= 1\n",
    "        else:\n",
    "            fp += 1\n",
    "\n",
    "    precision = tp / (tp + fp) if tp + fp > 0 else 0\n",
    "    recall = tp / (tp + fn) if tp + fn > 0 else 0\n",
    "\n",
    "    return precision, recall\n",
    "\n",
    "def calculate_ap(predictions, ground_truths, iou_threshold):\n",
    "    precisions = []\n",
    "    recalls = []\n",
    "\n",
    "    for prediction in predictions:\n",
    "        precision, recall = calculate_precision_recall([prediction], ground_truths, iou_threshold)\n",
    "        precisions.append(precision)\n",
    "        recalls.append(recall)\n",
    "\n",
    "    sorted_indices = sorted(range(len(precisions)), key=lambda x: predictions[x]['confidence'], reverse=True)\n",
    "    precisions = [precisions[i] for i in sorted_indices]\n",
    "    recalls = [recalls[i] for i in sorted_indices]\n",
    "\n",
    "    ap = 0\n",
    "    for i in range(len(precisions)):\n",
    "        ap += precisions[i] * (recalls[i] - recalls[i-1]) if i > 0 else precisions[i] * recalls[i]\n",
    "\n",
    "    return ap\n",
    "\n",
    "def calculate_map(predictions, ground_truths, iou_threshold):\n",
    "    ap_sum = 0\n",
    "    class_count = len(predictions)\n",
    "\n",
    "    for i in range(class_count):\n",
    "        ap = calculate_ap(predictions[i], ground_truths[i], iou_threshold)\n",
    "        ap_sum += ap\n",
    "\n",
    "    map = ap_sum / class_count\n",
    "    return map\n"
   ]
  },
  {
   "cell_type": "code",
   "execution_count": 16,
   "id": "f02cb85b-69ec-419b-be83-69df4b358e75",
   "metadata": {},
   "outputs": [],
   "source": [
    "import matplotlib.pyplot as plt\n",
    "import matplotlib.patches as patches\n",
    "\n",
    "def plot_boxes_with_intersection(predictions, ground_truths, iou_threshold, class_color):\n",
    "    fig, ax = plt.subplots()\n",
    "\n",
    "    for pred_box in predictions:\n",
    "        ax.add_patch(patches.Rectangle((pred_box['bbox'][0], pred_box['bbox'][1]), pred_box['bbox'][2] - pred_box['bbox'][0], pred_box['bbox'][3] - pred_box['bbox'][1], fill=False, edgecolor=class_color))\n",
    "\n",
    "    for gt_box in ground_truths:\n",
    "        ax.add_patch(patches.Rectangle((gt_box[0], gt_box[1]), gt_box[2] - gt_box[0], gt_box[3] - gt_box[1], fill=False, edgecolor='y'))\n",
    "\n",
    "    for pred_box in predictions:\n",
    "        for gt_box in ground_truths:\n",
    "            iou = calculate_iou(pred_box['bbox'], gt_box)\n",
    "            if iou >= iou_threshold:\n",
    "                x1 = max(pred_box['bbox'][0], gt_box[0])\n",
    "                y1 = max(pred_box['bbox'][1], gt_box[1])\n",
    "                x2 = min(pred_box['bbox'][2], gt_box[2])\n",
    "                y2 = min(pred_box['bbox'][3], gt_box[3])\n",
    "                ax.add_patch(patches.Rectangle((x1, y1), x2 - x1, y2 - y1, fill=True, facecolor='g', alpha=0.3))\n",
    "\n",
    "    ax.set_xlim(0, 12)\n",
    "    ax.set_ylim(0, 12)\n",
    "    ax.set_aspect('equal', adjustable='box')\n",
    "    plt.title(f'Bounding Boxes and Intersection (IOU Threshold: {iou_threshold})')\n",
    "    plt.show()\n"
   ]
  },
  {
   "cell_type": "code",
   "execution_count": 17,
   "id": "caba497e-a116-4c44-bd79-f7efe9cd20aa",
   "metadata": {},
   "outputs": [],
   "source": [
    "# Define the predictions and ground truths for each class\n",
    "class1_predictions = [\n",
    "    {'confidence': 0.9, 'bbox': (1, 1, 4, 4)},\n",
    "    {'confidence': 0.8, 'bbox': (2, 2, 5, 5)},\n",
    "    {'confidence': 0.7, 'bbox': (3, 3, 6, 6)}\n",
    "]\n",
    "\n",
    "class1_ground_truths = [\n",
    "    (1, 1, 3, 3),\n",
    "    (2, 2, 5, 5)\n",
    "]\n",
    "\n",
    "class2_predictions = [\n",
    "    {'confidence': 0.85, 'bbox': (5, 5, 7, 7)},\n",
    "    {'confidence': 0.75, 'bbox': (6, 6, 8, 8)}\n",
    "]\n",
    "\n",
    "class2_ground_truths = [\n",
    "    (5, 5, 7, 7)\n",
    "]\n",
    "\n",
    "# Define the colors for each class\n",
    "class1_color = 'b'\n",
    "class2_color = 'r'"
   ]
  },
  {
   "cell_type": "code",
   "execution_count": 18,
   "id": "3e770742-6e97-485c-bfe3-027ed460d04f",
   "metadata": {},
   "outputs": [
    {
     "name": "stdout",
     "output_type": "stream",
     "text": [
      "Class 1 mAP: 0.5\n",
      "Class 2 mAP: 1.0\n",
      "Final mAP: 0.75\n"
     ]
    }
   ],
   "source": [
    "# Calculate mAP for each class and the final mAP\n",
    "class1_map = calculate_map([class1_predictions, class2_predictions], [class1_ground_truths, class2_ground_truths], iou_threshold=0.5)\n",
    "print(f\"Class 1 mAP: {calculate_map([class1_predictions], [class1_ground_truths], iou_threshold=0.5)}\")\n",
    "print(f\"Class 2 mAP: {calculate_map([class2_predictions], [class2_ground_truths], iou_threshold=0.5)}\")\n",
    "print(f\"Final mAP: {class1_map}\")"
   ]
  },
  {
   "cell_type": "code",
   "execution_count": 19,
   "id": "9601df69-d63f-4db1-9cef-3963878e69cb",
   "metadata": {},
   "outputs": [
    {
     "data": {
      "image/png": "[encoded data removed]",
      "text/plain": [
       "<Figure size 432x288 with 1 Axes>"
      ]
     },
     "metadata": {
      "needs_background": "light"
     },
     "output_type": "display_data"
    },
    {
     "data": {
      "image/png": "[encoded data removed]",
      "text/plain": [
       "<Figure size 432x288 with 1 Axes>"
      ]
     },
     "metadata": {
      "needs_background": "light"
     },
     "output_type": "display_data"
    }
   ],
   "source": [
    "# Plot the boxes and intersection for each class\n",
    "plot_boxes_with_intersection(class1_predictions, class1_ground_truths, iou_threshold=0.5, class_color=class1_color)\n",
    "plot_boxes_with_intersection(class2_predictions, class2_ground_truths, iou_threshold=0.5, class_color=class2_color)"
   ]
  },
  {
   "cell_type": "markdown",
   "id": "90b59290-daf2-4e73-97d8-dc980769e948",
   "metadata": {},
   "source": [
    "# New Solution with confidence threshold from 0.05 to 0.95"
   ]
  },
  {
   "cell_type": "code",
   "execution_count": 14,
   "id": "ba6a1e22-1ce8-420e-af02-1204bd7bd80b",
   "metadata": {},
   "outputs": [],
   "source": [
    "def calculate_iou(box1, box2):\n",
    "    x1 = max(box1[0], box2[0])\n",
    "    y1 = max(box1[1], box2[1])\n",
    "    x2 = min(box1[2], box2[2])\n",
    "    y2 = min(box1[3], box2[3])\n",
    "\n",
    "    intersection = max(0, x2 - x1) * max(0, y2 - y1)\n",
    "    area_box1 = (box1[2] - box1[0]) * (box1[3] - box1[1])\n",
    "    area_box2 = (box2[2] - box2[0]) * (box2[3] - box2[1])\n",
    "    union = area_box1 + area_box2 - intersection\n",
    "\n",
    "    return intersection / union"
   ]
  },
  {
   "cell_type": "code",
   "execution_count": 20,
   "id": "361560b1-7444-4373-ae29-af8fcc174a0b",
   "metadata": {},
   "outputs": [
    {
     "name": "stdout",
     "output_type": "stream",
     "text": [
      "Class 1 mAP: 0.0\n",
      "Class 2 mAP: 0.0\n",
      "Final mAP: 0.0\n"
     ]
    }
   ],
   "source": [
    "def calculate_precision_recall(predictions, ground_truths, iou_threshold, conf_threshold):\n",
    "    tp = 0\n",
    "    fp = 0\n",
    "    fn = 0\n",
    "\n",
    "    for pred in predictions:\n",
    "        true_positive = False\n",
    "        for gt in ground_truths:\n",
    "            iou = calculate_iou(pred[2:], gt)\n",
    "\n",
    "            if pred[0] >= conf_threshold and iou >= iou_threshold:\n",
    "                true_positive = True\n",
    "                break\n",
    "\n",
    "        if true_positive:\n",
    "            tp += 1\n",
    "        elif pred[0] >= conf_threshold:\n",
    "            fp += 1\n",
    "        else:\n",
    "            fn += 1\n",
    "\n",
    "    precision = tp / (tp + fp) if tp + fp > 0 else 0\n",
    "    recall = tp / (tp + fn) if tp + fn > 0 else 0\n",
    "\n",
    "    return precision, recall\n",
    "\n",
    "def calculate_average_precision(predictions, ground_truths, iou_threshold):\n",
    "    precisions = []\n",
    "    recalls = []\n",
    "\n",
    "    for conf_threshold in [i/20 for i in range(1, 20)]:\n",
    "        precision, recall = calculate_precision_recall(predictions, ground_truths, iou_threshold, conf_threshold)\n",
    "        precisions.append(precision)\n",
    "        recalls.append(recall)\n",
    "\n",
    "    # Calculate the area under the precision-recall curve using the trapezoidal rule\n",
    "    ap = 0\n",
    "    for i in range(1, len(recalls)):\n",
    "        ap += (recalls[i] - recalls[i-1]) * precisions[i]\n",
    "\n",
    "    return ap\n",
    "\n",
    "\n",
    "# Class 1 data\n",
    "class1_predictions = [\n",
    "    (0.9, 1, 1, 1, 4, 4),\n",
    "    (0.8, 2, 2, 2, 5, 5),\n",
    "    (0.7, 3, 3, 3, 6, 6)\n",
    "]\n",
    "\n",
    "class1_ground_truths = [\n",
    "    (1, 1, 1, 3, 3),\n",
    "    (2, 2, 2, 5, 5)\n",
    "]\n",
    "\n",
    "# Class 2 data\n",
    "class2_predictions = [\n",
    "    (0.85, 5, 5, 5, 7, 7),\n",
    "    (0.75, 6, 6, 6, 8, 8)\n",
    "]\n",
    "\n",
    "class2_ground_truths = [\n",
    "    (5, 5, 5, 7, 7)\n",
    "]\n",
    "\n",
    "iou_threshold = 0.5\n",
    "\n",
    "# Calculate mAP for Class 1\n",
    "class1_ap = calculate_average_precision(class1_predictions, class1_ground_truths, iou_threshold)\n",
    "\n",
    "# Calculate mAP for Class 2\n",
    "class2_ap = calculate_average_precision(class2_predictions, class2_ground_truths, iou_threshold)\n",
    "\n",
    "# Calculate final mAP\n",
    "final_map = (class1_ap + class2_ap) / 2\n",
    "\n",
    "print(\"Class 1 mAP:\", class1_ap)\n",
    "print(\"Class 2 mAP:\", class2_ap)\n",
    "print(\"Final mAP:\", final_map)"
   ]
  }
 ],
 "metadata": {
  "kernelspec": {
   "display_name": "Python 3",
   "language": "python",
   "name": "python3"
  },
  "language_info": {
   "codemirror_mode": {
    "name": "ipython",
    "version": 3
   },
   "file_extension": ".py",
   "mimetype": "text/x-python",
   "name": "python",
   "nbconvert_exporter": "python",
   "pygments_lexer": "ipython3",
   "version": "3.9.1"
  }
 },
 "nbformat": 4,
 "nbformat_minor": 5
}
