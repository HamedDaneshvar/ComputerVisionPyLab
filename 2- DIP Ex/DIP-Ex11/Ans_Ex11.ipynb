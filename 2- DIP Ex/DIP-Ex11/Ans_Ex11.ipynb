{
 "cells": [
  {
   "cell_type": "code",
   "execution_count": 1,
   "id": "c6353387-4da1-4552-bd4d-36bea3dcf3f2",
   "metadata": {},
   "outputs": [],
   "source": [
    "import cv2\n",
    "import numpy as np"
   ]
  },
  {
   "cell_type": "markdown",
   "id": "60aa5e7a-73ee-4cc5-8ea8-856ad7f66b55",
   "metadata": {},
   "source": [
    "## Question 1"
   ]
  },
  {
   "cell_type": "code",
   "execution_count": 20,
   "id": "a840dc27-64f2-47d1-868f-90ff4a57e63f",
   "metadata": {},
   "outputs": [],
   "source": [
    "# Load the image\n",
    "image = cv2.imread(\"media/b.jpg\", cv2.IMREAD_ANYCOLOR)\n",
    "\n",
    "# Convert the image to grayscale\n",
    "gray = cv2.cvtColor(image, cv2.COLOR_BGR2GRAY)\n",
    "\n",
    "# Apply Gaussian blur to reduce noise\n",
    "blurred = cv2.GaussianBlur(gray, (5, 5), 0)\n",
    "\n",
    "# Detect edges using Canny edge detection\n",
    "edges = cv2.Canny(blurred, 120, 255)  # Adjust the thresholds here\n",
    "\n",
    "# Find contours in the edged image\n",
    "contours, hierarchy = cv2.findContours(edges, cv2.RETR_LIST, cv2.CHAIN_APPROX_SIMPLE)\n",
    "\n",
    "# Draw the circles on the original image\n",
    "cv2.drawContours(image, contours, -1, (0, 255, 0), 3)\n",
    "\n",
    "# Display and save the image with circles\n",
    "_ = cv2.imwrite('new_b.jpg', image)\n",
    "cv2.imshow(\"Circles Detection\", image)\n",
    "cv2.waitKey(0)\n",
    "cv2.destroyAllWindows()"
   ]
  },
  {
   "cell_type": "markdown",
   "id": "bdc80845-b0a0-4192-8b9e-a204c2dad7b8",
   "metadata": {},
   "source": [
    "## Question 2"
   ]
  },
  {
   "cell_type": "code",
   "execution_count": 101,
   "id": "fc68aecb-0ffa-4f66-abbc-43bc89776980",
   "metadata": {},
   "outputs": [],
   "source": [
    "img_contour = cv2.imread('media/F6 - Copy.png')\n",
    "gray_img_contour = cv2.cvtColor(img_contour, cv2.COLOR_BGR2GRAY)\n",
    "guassian_contour = cv2.GaussianBlur(gray_img_contour, (5, 5), 0)\n",
    "edges_contour = cv2.Canny(guassian_contour, 50, 100)\n",
    "\n",
    "contour, hierarchy = cv2.findContours(edges_contour, cv2.RETR_EXTERNAL, cv2.CHAIN_APPROX_NONE)\n",
    "cv2.drawContours(img_contour, contour, -1, (0, 255, 255), 1)\n",
    "\n",
    "_ = cv2.imwrite('contour_img.png', img_contour)\n",
    "cv2.imshow('Contour Image', img_contour)\n",
    "cv2.waitKey(0)\n",
    "cv2.destroyAllWindows()"
   ]
  },
  {
   "cell_type": "markdown",
   "id": "c47ed387-32ec-49d0-a5fd-3b9197569ccf",
   "metadata": {},
   "source": [
    "## Question 4"
   ]
  },
  {
   "cell_type": "code",
   "execution_count": 52,
   "id": "5a4cac91-b718-4880-abf1-c7264fa7f9bb",
   "metadata": {},
   "outputs": [],
   "source": [
    "arr = np.array([[0,  0,  0,  0,  0, 0, 0],\n",
    "                [0, 50, 60, 90,  0, 0, 0],\n",
    "                [0, 18, 95, 20, 36, 0, 0],\n",
    "                [0, 8,  10,  1,  0, 0, 0],\n",
    "                [0, 6, 20, 40, 20, 80, 0],\n",
    "                [0, 3,  0,  0, 15,  0, 0],\n",
    "                [0,  0,  0,  0,  0, 0, 0],], np.int16)\n",
    "new_arr = np.zeros((5,5), np.uint16)"
   ]
  },
  {
   "cell_type": "code",
   "execution_count": 60,
   "id": "a83b5c77-b39f-46f5-94b5-d8d16b39373e",
   "metadata": {},
   "outputs": [
    {
     "name": "stdout",
     "output_type": "stream",
     "text": [
      "(1, 1): (0 + 0 + 0 + 0 + 50 + 60 + 0 + 18 + 95) / 9 = 24.77777777777778 => (1, 1): 0\n",
      "(1, 2): (0 + 0 + 0 + 50 + 60 + 90 + 18 + 95 + 20) / 9 = 37.0 => (1, 2): 0\n",
      "(1, 3): (0 + 0 + 0 + 60 + 90 + 0 + 95 + 20 + 36) / 9 = 33.44444444444444 => (1, 3): 0\n",
      "(1, 4): (0 + 0 + 0 + 90 + 0 + 0 + 20 + 36 + 0) / 9 = 16.22222222222222 => (1, 4): 1\n",
      "(1, 5): (0 + 0 + 0 + 0 + 0 + 0 + 36 + 0 + 0) / 9 = 4.0 => (1, 5): 1\n",
      "(2, 1): (0 + 50 + 60 + 0 + 18 + 95 + 0 + 8 + 10) / 9 = 26.77777777777778 => (2, 1): 1\n",
      "(2, 2): (50 + 60 + 90 + 18 + 95 + 20 + 8 + 10 + 1) / 9 = 39.111111111111114 => (2, 2): 0\n",
      "(2, 3): (60 + 90 + 0 + 95 + 20 + 36 + 10 + 1 + 0) / 9 = 34.666666666666664 => (2, 3): 1\n",
      "(2, 4): (90 + 0 + 0 + 20 + 36 + 0 + 1 + 0 + 0) / 9 = 16.333333333333332 => (2, 4): 0\n",
      "(2, 5): (0 + 0 + 0 + 36 + 0 + 0 + 0 + 0 + 0) / 9 = 4.0 => (2, 5): 1\n",
      "(3, 1): (0 + 18 + 95 + 0 + 8 + 10 + 0 + 6 + 20) / 9 = 17.444444444444443 => (3, 1): 1\n",
      "(3, 2): (18 + 95 + 20 + 8 + 10 + 1 + 6 + 20 + 40) / 9 = 24.22222222222222 => (3, 2): 1\n",
      "(3, 3): (95 + 20 + 36 + 10 + 1 + 0 + 20 + 40 + 20) / 9 = 26.88888888888889 => (3, 3): 1\n",
      "(3, 4): (20 + 36 + 0 + 1 + 0 + 0 + 40 + 20 + 80) / 9 = 21.88888888888889 => (3, 4): 1\n",
      "(3, 5): (36 + 0 + 0 + 0 + 0 + 0 + 20 + 80 + 0) / 9 = 15.11111111111111 => (3, 5): 1\n",
      "(4, 1): (0 + 8 + 10 + 0 + 6 + 20 + 0 + 3 + 0) / 9 = 5.222222222222222 => (4, 1): 0\n",
      "(4, 2): (8 + 10 + 1 + 6 + 20 + 40 + 3 + 0 + 0) / 9 = 9.777777777777779 => (4, 2): 0\n",
      "(4, 3): (10 + 1 + 0 + 20 + 40 + 20 + 0 + 0 + 15) / 9 = 11.777777777777779 => (4, 3): 0\n",
      "(4, 4): (1 + 0 + 0 + 40 + 20 + 80 + 0 + 15 + 0) / 9 = 17.333333333333332 => (4, 4): 0\n",
      "(4, 5): (0 + 0 + 0 + 20 + 80 + 0 + 15 + 0 + 0) / 9 = 12.777777777777779 => (4, 5): 0\n",
      "(5, 1): (0 + 6 + 20 + 0 + 3 + 0 + 0 + 0 + 0) / 9 = 3.2222222222222223 => (5, 1): 1\n",
      "(5, 2): (6 + 20 + 40 + 3 + 0 + 0 + 0 + 0 + 0) / 9 = 7.666666666666667 => (5, 2): 1\n",
      "(5, 3): (20 + 40 + 20 + 0 + 0 + 15 + 0 + 0 + 0) / 9 = 10.555555555555555 => (5, 3): 1\n",
      "(5, 4): (40 + 20 + 80 + 0 + 15 + 0 + 0 + 0 + 0) / 9 = 17.22222222222222 => (5, 4): 1\n",
      "(5, 5): (20 + 80 + 0 + 15 + 0 + 0 + 0 + 0 + 0) / 9 = 12.777777777777779 => (5, 5): 1\n"
     ]
    }
   ],
   "source": [
    "for i in range(1, len(arr) - 1):\n",
    "    for j in range(1, len(arr[0]) - 1):\n",
    "        avg = (arr[i-1][j-1] + arr[i-1][j] + arr[i-1][j+1] + arr[i][j-1] + arr[i][j] + arr[i][j+1] + arr[i+1][j-1] + arr[i+1][j] + arr[i+1][j+1]) / 9\n",
    "        if avg >= arr[i][j]:\n",
    "            new_arr[i-1][j-1] = 1\n",
    "        else:\n",
    "            new_arr[i-1][j-1] = 0\n",
    "\n",
    "        print(f\"({i}, {j}): ({arr[i-1][j-1]} + {arr[i-1][j]} + {arr[i-1][j+1]} + {arr[i][j-1]} + {arr[i][j]} + {arr[i][j+1]} + {arr[i+1][j-1]} + {arr[i+1][j]} + {arr[i+1][j+1]}) / 9 = {avg} => ({i}, {j}): {new_arr[i-1][j-1]}\")"
   ]
  },
  {
   "cell_type": "code",
   "execution_count": 61,
   "id": "e95c43e0-ef9d-46ed-9a16-f73a98a10f1c",
   "metadata": {},
   "outputs": [
    {
     "data": {
      "text/plain": [
       "array([[0, 0, 0, 1, 1],\n",
       "       [1, 0, 1, 0, 1],\n",
       "       [1, 1, 1, 1, 1],\n",
       "       [0, 0, 0, 0, 0],\n",
       "       [1, 1, 1, 1, 1]], dtype=uint16)"
      ]
     },
     "execution_count": 61,
     "metadata": {},
     "output_type": "execute_result"
    }
   ],
   "source": [
    "new_arr"
   ]
  },
  {
   "cell_type": "code",
   "execution_count": null,
   "id": "ff69399f-bc6e-4505-ac22-c790fbeba064",
   "metadata": {},
   "outputs": [],
   "source": []
  }
 ],
 "metadata": {
  "kernelspec": {
   "display_name": "Python 3",
   "language": "python",
   "name": "python3"
  },
  "language_info": {
   "codemirror_mode": {
    "name": "ipython",
    "version": 3
   },
   "file_extension": ".py",
   "mimetype": "text/x-python",
   "name": "python",
   "nbconvert_exporter": "python",
   "pygments_lexer": "ipython3",
   "version": "3.9.1"
  }
 },
 "nbformat": 4,
 "nbformat_minor": 5
}
