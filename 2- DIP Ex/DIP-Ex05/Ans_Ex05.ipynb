{
 "cells": [
  {
   "cell_type": "markdown",
   "id": "60aa5e7a-73ee-4cc5-8ea8-856ad7f66b55",
   "metadata": {},
   "source": [
    "## Exercise 1"
   ]
  },
  {
   "cell_type": "code",
   "execution_count": 3,
   "id": "c6353387-4da1-4552-bd4d-36bea3dcf3f2",
   "metadata": {},
   "outputs": [],
   "source": [
    "import os\n",
    "import cv2\n",
    "import numpy as np"
   ]
  },
  {
   "cell_type": "code",
   "execution_count": 9,
   "id": "2c858c8f-3670-4ace-a1d2-5bf57d8ec55d",
   "metadata": {},
   "outputs": [],
   "source": [
    "# question 1\n",
    "# read all images from dataset\n",
    "path = r'./dataset/images/'\n",
    "images_name = os.listdir(path)\n",
    "images = []\n",
    "for img in images_name:\n",
    "    temp = cv2.imread(path + img, cv2.IMREAD_UNCHANGED)\n",
    "    images.append(temp)"
   ]
  },
  {
   "cell_type": "code",
   "execution_count": 10,
   "id": "15ccd92d-83dc-47b2-8cf2-54a81076b62e",
   "metadata": {},
   "outputs": [
    {
     "name": "stdout",
     "output_type": "stream",
     "text": [
      "Image \"b_img.jpg\" is Gray!\n",
      "Image \"c_img.jpg\" is Colored!\n",
      "Image \"DOF_2.jpg\" is Colored!\n",
      "Image \"g_img.jpg\" is Gray!\n",
      "Image \"third_ch.jpg\" is Gray!\n"
     ]
    }
   ],
   "source": [
    "# question 2\n",
    "for img, name in zip(images, images_name):\n",
    "    if len(img.shape) < 3 or img.shape[2] == 1:\n",
    "        # image is gray of binary\n",
    "        if np.all(np.in1d(np.unique(img), [0, 255])) or \\\n",
    "           np.all(np.in1d(np.unique(img), [0, 1])):\n",
    "            print(f'Image \"{name}\" is Binary!')\n",
    "        else:\n",
    "            print(f'Image \"{name}\" is Gray!')\n",
    "    else:\n",
    "        print(f'Image \"{name}\" is Colored!')"
   ]
  },
  {
   "cell_type": "code",
   "execution_count": 11,
   "id": "33d23fd5-48e0-4f01-bc26-4c15b90932e1",
   "metadata": {},
   "outputs": [],
   "source": [
    "# question 3\n",
    "for img, name in zip(images, images_name):\n",
    "    if len(img.shape) >= 3:\n",
    "        new_img = cv2.cvtColor(img, cv2.COLOR_BGR2GRAY)\n",
    "        opp_img = 255 - new_img\n",
    "        cv2.imwrite(r'q3/' + f'Grayscale Image-{name}', new_img)\n",
    "        cv2.imwrite(r'q3/' + f'Negative Image-{name}', opp_img)\n"
   ]
  },
  {
   "cell_type": "code",
   "execution_count": 12,
   "id": "20ffa4bf-7a38-487d-bd37-813975a5130e",
   "metadata": {},
   "outputs": [],
   "source": [
    "# question 4\n",
    "for img, name in zip(images, images_name):\n",
    "    if len(img.shape) < 3 or img.shape[2] == 1:\n",
    "        # image is gray of binary\n",
    "        if np.all(np.in1d(np.unique(img), [0, 255])) or \\\n",
    "           np.all(np.in1d(np.unique(img), [0, 1])):\n",
    "            pass\n",
    "        else:\n",
    "            ret, new_img = cv2.threshold(img, 70, 255, 0)\n",
    "            opp_img = 255 - new_img\n",
    "            cv2.imwrite(r'q4/' + f'Binary Image-{name}', new_img)\n",
    "            cv2.imwrite(r'q4/' + f'Negative Image-{name}', opp_img)"
   ]
  },
  {
   "cell_type": "code",
   "execution_count": 13,
   "id": "c2ab17b6-9414-42c7-8f96-cde390355d4f",
   "metadata": {},
   "outputs": [],
   "source": [
    "# question 5\n",
    "# directory of q5 is empty because all of image in dataset is gray or colored\n",
    "for img, name in zip(images, images_name):\n",
    "    if len(img.shape) < 3 or img.shape[2] == 1:\n",
    "        # image is gray of binary\n",
    "        if np.all(np.in1d(np.unique(img), [0, 255])) or \\\n",
    "           np.all(np.in1d(np.unique(img), [0, 1])):\n",
    "            opp_img = 255 - img\n",
    "            cv2.imwrite(r'q5/' + f'Negative Image-{name}', opp_img)"
   ]
  },
  {
   "cell_type": "code",
   "execution_count": null,
   "id": "03ba247c-4933-435c-95cd-c7a1ef8e2a13",
   "metadata": {},
   "outputs": [],
   "source": []
  }
 ],
 "metadata": {
  "kernelspec": {
   "display_name": "Python 3",
   "language": "python",
   "name": "python3"
  },
  "language_info": {
   "codemirror_mode": {
    "name": "ipython",
    "version": 3
   },
   "file_extension": ".py",
   "mimetype": "text/x-python",
   "name": "python",
   "nbconvert_exporter": "python",
   "pygments_lexer": "ipython3",
   "version": "3.9.1"
  }
 },
 "nbformat": 4,
 "nbformat_minor": 5
}
